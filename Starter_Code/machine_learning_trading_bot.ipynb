{
 "cells": [
  {
   "cell_type": "markdown",
   "metadata": {},
   "source": [
    "# Machine Learning Trading Bot\n",
    "\n",
    "In this Challenge, you’ll assume the role of a financial advisor at one of the top five financial advisory firms in the world. Your firm constantly competes with the other major firms to manage and automatically trade assets in a highly dynamic environment. In recent years, your firm has heavily profited by using computer algorithms that can buy and sell faster than human traders.\n",
    "\n",
    "The speed of these transactions gave your firm a competitive advantage early on. But, people still need to specifically program these systems, which limits their ability to adapt to new data. You’re thus planning to improve the existing algorithmic trading systems and maintain the firm’s competitive advantage in the market. To do so, you’ll enhance the existing trading signals with machine learning algorithms that can adapt to new data.\n",
    "\n",
    "## Instructions:\n",
    "\n",
    "Use the starter code file to complete the steps that the instructions outline. The steps for this Challenge are divided into the following sections:\n",
    "\n",
    "* Establish a Baseline Performance\n",
    "\n",
    "* Tune the Baseline Trading Algorithm\n",
    "\n",
    "* Evaluate a New Machine Learning Classifier\n",
    "\n",
    "* Create an Evaluation Report\n",
    "\n",
    "#### Establish a Baseline Performance\n",
    "\n",
    "In this section, you’ll run the provided starter code to establish a baseline performance for the trading algorithm. To do so, complete the following steps.\n",
    "\n",
    "Open the Jupyter notebook. Restart the kernel, run the provided cells that correspond with the first three steps, and then proceed to step four. \n",
    "\n",
    "1. Import the OHLCV dataset into a Pandas DataFrame.\n",
    "\n",
    "2. Generate trading signals using short- and long-window SMA values. \n",
    "\n",
    "3. Split the data into training and testing datasets.\n",
    "\n",
    "4. Use the `SVC` classifier model from SKLearn's support vector machine (SVM) learning method to fit the training data and make predictions based on the testing data. Review the predictions.\n",
    "\n",
    "5. Review the classification report associated with the `SVC` model predictions. \n",
    "\n",
    "6. Create a predictions DataFrame that contains columns for “Predicted” values, “Actual Returns”, and “Strategy Returns”.\n",
    "\n",
    "7. Create a cumulative return plot that shows the actual returns vs. the strategy returns. Save a PNG image of this plot. This will serve as a baseline against which to compare the effects of tuning the trading algorithm.\n",
    "\n",
    "8. Write your conclusions about the performance of the baseline trading algorithm in the `README.md` file that’s associated with your GitHub repository. Support your findings by using the PNG image that you saved in the previous step.\n",
    "\n",
    "#### Tune the Baseline Trading Algorithm\n",
    "\n",
    "In this section, you’ll tune, or adjust, the model’s input features to find the parameters that result in the best trading outcomes. (You’ll choose the best by comparing the cumulative products of the strategy returns.) To do so, complete the following steps:\n",
    "\n",
    "1. Tune the training algorithm by adjusting the size of the training dataset. To do so, slice your data into different periods. Rerun the notebook with the updated parameters, and record the results in your `README.md` file. Answer the following question: What impact resulted from increasing or decreasing the training window?\n",
    "\n",
    "> **Hint** To adjust the size of the training dataset, you can use a different `DateOffset` value&mdash;for example, six months. Be aware that changing the size of the training dataset also affects the size of the testing dataset.\n",
    "\n",
    "2. Tune the trading algorithm by adjusting the SMA input features. Adjust one or both of the windows for the algorithm. Rerun the notebook with the updated parameters, and record the results in your `README.md` file. Answer the following question: What impact resulted from increasing or decreasing either or both of the SMA windows?\n",
    "\n",
    "3. Choose the set of parameters that best improved the trading algorithm returns. Save a PNG image of the cumulative product of the actual returns vs. the strategy returns, and document your conclusion in your `README.md` file.\n",
    "\n",
    "#### Evaluate a New Machine Learning Classifier\n",
    "\n",
    "In this section, you’ll use the original parameters that the starter code provided. But, you’ll apply them to the performance of a second machine learning model. To do so, complete the following steps:\n",
    "\n",
    "1. Import a new classifier, such as `AdaBoost`, `DecisionTreeClassifier`, or `LogisticRegression`. (For the full list of classifiers, refer to the [Supervised learning page](https://scikit-learn.org/stable/supervised_learning.html) in the scikit-learn documentation.)\n",
    "\n",
    "2. Using the original training data as the baseline model, fit another model with the new classifier.\n",
    "\n",
    "3. Backtest the new model to evaluate its performance. Save a PNG image of the cumulative product of the actual returns vs. the strategy returns for this updated trading algorithm, and write your conclusions in your `README.md` file. Answer the following questions: Did this new model perform better or worse than the provided baseline model? Did this new model perform better or worse than your tuned trading algorithm?\n",
    "\n",
    "#### Create an Evaluation Report\n",
    "\n",
    "In the previous sections, you updated your `README.md` file with your conclusions. To accomplish this section, you need to add a summary evaluation report at the end of the `README.md` file. For this report, express your final conclusions and analysis. Support your findings by using the PNG images that you created.\n"
   ]
  },
  {
   "cell_type": "code",
   "execution_count": 78,
   "metadata": {},
   "outputs": [],
   "source": [
    "# Imports\n",
    "import pandas as pd\n",
    "import numpy as np\n",
    "from pathlib import Path\n",
    "import hvplot.pandas\n",
    "import matplotlib.pyplot as plt\n",
    "from sklearn import svm\n",
    "from sklearn.preprocessing import StandardScaler\n",
    "from pandas.tseries.offsets import DateOffset\n",
    "from sklearn.metrics import classification_report\n",
    "from sklearn.svm import SVC\n"
   ]
  },
  {
   "cell_type": "markdown",
   "metadata": {},
   "source": [
    "---\n",
    "\n",
    "## Establish a Baseline Performance\n",
    "\n",
    "In this section, you’ll run the provided starter code to establish a baseline performance for the trading algorithm. To do so, complete the following steps.\n",
    "\n",
    "Open the Jupyter notebook. Restart the kernel, run the provided cells that correspond with the first three steps, and then proceed to step four. \n"
   ]
  },
  {
   "cell_type": "markdown",
   "metadata": {},
   "source": [
    "### Step 1: mport the OHLCV dataset into a Pandas DataFrame."
   ]
  },
  {
   "cell_type": "code",
   "execution_count": 79,
   "metadata": {},
   "outputs": [
    {
     "data": {
      "text/html": [
       "<div>\n",
       "<style scoped>\n",
       "    .dataframe tbody tr th:only-of-type {\n",
       "        vertical-align: middle;\n",
       "    }\n",
       "\n",
       "    .dataframe tbody tr th {\n",
       "        vertical-align: top;\n",
       "    }\n",
       "\n",
       "    .dataframe thead th {\n",
       "        text-align: right;\n",
       "    }\n",
       "</style>\n",
       "<table border=\"1\" class=\"dataframe\">\n",
       "  <thead>\n",
       "    <tr style=\"text-align: right;\">\n",
       "      <th></th>\n",
       "      <th>open</th>\n",
       "      <th>high</th>\n",
       "      <th>low</th>\n",
       "      <th>close</th>\n",
       "      <th>volume</th>\n",
       "    </tr>\n",
       "    <tr>\n",
       "      <th>date</th>\n",
       "      <th></th>\n",
       "      <th></th>\n",
       "      <th></th>\n",
       "      <th></th>\n",
       "      <th></th>\n",
       "    </tr>\n",
       "  </thead>\n",
       "  <tbody>\n",
       "    <tr>\n",
       "      <th>2015-01-21 09:30:00</th>\n",
       "      <td>23.83</td>\n",
       "      <td>23.83</td>\n",
       "      <td>23.83</td>\n",
       "      <td>23.83</td>\n",
       "      <td>100</td>\n",
       "    </tr>\n",
       "    <tr>\n",
       "      <th>2015-01-21 11:00:00</th>\n",
       "      <td>23.98</td>\n",
       "      <td>23.98</td>\n",
       "      <td>23.98</td>\n",
       "      <td>23.98</td>\n",
       "      <td>100</td>\n",
       "    </tr>\n",
       "    <tr>\n",
       "      <th>2015-01-22 15:00:00</th>\n",
       "      <td>24.42</td>\n",
       "      <td>24.42</td>\n",
       "      <td>24.42</td>\n",
       "      <td>24.42</td>\n",
       "      <td>100</td>\n",
       "    </tr>\n",
       "    <tr>\n",
       "      <th>2015-01-22 15:15:00</th>\n",
       "      <td>24.42</td>\n",
       "      <td>24.44</td>\n",
       "      <td>24.42</td>\n",
       "      <td>24.44</td>\n",
       "      <td>200</td>\n",
       "    </tr>\n",
       "    <tr>\n",
       "      <th>2015-01-22 15:30:00</th>\n",
       "      <td>24.46</td>\n",
       "      <td>24.46</td>\n",
       "      <td>24.46</td>\n",
       "      <td>24.46</td>\n",
       "      <td>200</td>\n",
       "    </tr>\n",
       "  </tbody>\n",
       "</table>\n",
       "</div>"
      ],
      "text/plain": [
       "                      open   high    low  close  volume\n",
       "date                                                   \n",
       "2015-01-21 09:30:00  23.83  23.83  23.83  23.83     100\n",
       "2015-01-21 11:00:00  23.98  23.98  23.98  23.98     100\n",
       "2015-01-22 15:00:00  24.42  24.42  24.42  24.42     100\n",
       "2015-01-22 15:15:00  24.42  24.44  24.42  24.44     200\n",
       "2015-01-22 15:30:00  24.46  24.46  24.46  24.46     200"
      ]
     },
     "execution_count": 79,
     "metadata": {},
     "output_type": "execute_result"
    }
   ],
   "source": [
    "# Import the OHLCV dataset into a Pandas Dataframe\n",
    "ohlcv_df = pd.read_csv(\n",
    "    Path(\"./Resources/emerging_markets_ohlcv.csv\"), \n",
    "    index_col='date', \n",
    "    infer_datetime_format=True, \n",
    "    parse_dates=True\n",
    ")\n",
    "\n",
    "# Review the DataFrame\n",
    "ohlcv_df.head()"
   ]
  },
  {
   "cell_type": "code",
   "execution_count": 80,
   "metadata": {},
   "outputs": [
    {
     "data": {
      "text/html": [
       "<div>\n",
       "<style scoped>\n",
       "    .dataframe tbody tr th:only-of-type {\n",
       "        vertical-align: middle;\n",
       "    }\n",
       "\n",
       "    .dataframe tbody tr th {\n",
       "        vertical-align: top;\n",
       "    }\n",
       "\n",
       "    .dataframe thead th {\n",
       "        text-align: right;\n",
       "    }\n",
       "</style>\n",
       "<table border=\"1\" class=\"dataframe\">\n",
       "  <thead>\n",
       "    <tr style=\"text-align: right;\">\n",
       "      <th></th>\n",
       "      <th>close</th>\n",
       "      <th>Actual Returns</th>\n",
       "    </tr>\n",
       "    <tr>\n",
       "      <th>date</th>\n",
       "      <th></th>\n",
       "      <th></th>\n",
       "    </tr>\n",
       "  </thead>\n",
       "  <tbody>\n",
       "    <tr>\n",
       "      <th>2015-01-21 11:00:00</th>\n",
       "      <td>23.98</td>\n",
       "      <td>0.006295</td>\n",
       "    </tr>\n",
       "    <tr>\n",
       "      <th>2015-01-22 15:00:00</th>\n",
       "      <td>24.42</td>\n",
       "      <td>0.018349</td>\n",
       "    </tr>\n",
       "    <tr>\n",
       "      <th>2015-01-22 15:15:00</th>\n",
       "      <td>24.44</td>\n",
       "      <td>0.000819</td>\n",
       "    </tr>\n",
       "    <tr>\n",
       "      <th>2015-01-22 15:30:00</th>\n",
       "      <td>24.46</td>\n",
       "      <td>0.000818</td>\n",
       "    </tr>\n",
       "    <tr>\n",
       "      <th>2015-01-26 12:30:00</th>\n",
       "      <td>24.33</td>\n",
       "      <td>-0.005315</td>\n",
       "    </tr>\n",
       "  </tbody>\n",
       "</table>\n",
       "</div>"
      ],
      "text/plain": [
       "                     close  Actual Returns\n",
       "date                                      \n",
       "2015-01-21 11:00:00  23.98        0.006295\n",
       "2015-01-22 15:00:00  24.42        0.018349\n",
       "2015-01-22 15:15:00  24.44        0.000819\n",
       "2015-01-22 15:30:00  24.46        0.000818\n",
       "2015-01-26 12:30:00  24.33       -0.005315"
      ]
     },
     "metadata": {},
     "output_type": "display_data"
    },
    {
     "data": {
      "text/html": [
       "<div>\n",
       "<style scoped>\n",
       "    .dataframe tbody tr th:only-of-type {\n",
       "        vertical-align: middle;\n",
       "    }\n",
       "\n",
       "    .dataframe tbody tr th {\n",
       "        vertical-align: top;\n",
       "    }\n",
       "\n",
       "    .dataframe thead th {\n",
       "        text-align: right;\n",
       "    }\n",
       "</style>\n",
       "<table border=\"1\" class=\"dataframe\">\n",
       "  <thead>\n",
       "    <tr style=\"text-align: right;\">\n",
       "      <th></th>\n",
       "      <th>close</th>\n",
       "      <th>Actual Returns</th>\n",
       "    </tr>\n",
       "    <tr>\n",
       "      <th>date</th>\n",
       "      <th></th>\n",
       "      <th></th>\n",
       "    </tr>\n",
       "  </thead>\n",
       "  <tbody>\n",
       "    <tr>\n",
       "      <th>2021-01-22 09:30:00</th>\n",
       "      <td>33.27</td>\n",
       "      <td>-0.006866</td>\n",
       "    </tr>\n",
       "    <tr>\n",
       "      <th>2021-01-22 11:30:00</th>\n",
       "      <td>33.35</td>\n",
       "      <td>0.002405</td>\n",
       "    </tr>\n",
       "    <tr>\n",
       "      <th>2021-01-22 13:45:00</th>\n",
       "      <td>33.42</td>\n",
       "      <td>0.002099</td>\n",
       "    </tr>\n",
       "    <tr>\n",
       "      <th>2021-01-22 14:30:00</th>\n",
       "      <td>33.47</td>\n",
       "      <td>0.001496</td>\n",
       "    </tr>\n",
       "    <tr>\n",
       "      <th>2021-01-22 15:45:00</th>\n",
       "      <td>33.44</td>\n",
       "      <td>-0.000896</td>\n",
       "    </tr>\n",
       "  </tbody>\n",
       "</table>\n",
       "</div>"
      ],
      "text/plain": [
       "                     close  Actual Returns\n",
       "date                                      \n",
       "2021-01-22 09:30:00  33.27       -0.006866\n",
       "2021-01-22 11:30:00  33.35        0.002405\n",
       "2021-01-22 13:45:00  33.42        0.002099\n",
       "2021-01-22 14:30:00  33.47        0.001496\n",
       "2021-01-22 15:45:00  33.44       -0.000896"
      ]
     },
     "metadata": {},
     "output_type": "display_data"
    }
   ],
   "source": [
    "# Filter the date index and close columns\n",
    "signals_df = ohlcv_df.loc[:, [\"close\"]]\n",
    "\n",
    "# Use the pct_change function to generate  returns from close prices\n",
    "signals_df[\"Actual Returns\"] = signals_df[\"close\"].pct_change()\n",
    "\n",
    "# Drop all NaN values from the DataFrame\n",
    "signals_df = signals_df.dropna()\n",
    "\n",
    "# Review the DataFrame\n",
    "display(signals_df.head())\n",
    "display(signals_df.tail())"
   ]
  },
  {
   "cell_type": "markdown",
   "metadata": {},
   "source": [
    "## Step 2: Generate trading signals using short- and long-window SMA values. "
   ]
  },
  {
   "cell_type": "code",
   "execution_count": 81,
   "metadata": {},
   "outputs": [
    {
     "data": {
      "text/html": [
       "<div>\n",
       "<style scoped>\n",
       "    .dataframe tbody tr th:only-of-type {\n",
       "        vertical-align: middle;\n",
       "    }\n",
       "\n",
       "    .dataframe tbody tr th {\n",
       "        vertical-align: top;\n",
       "    }\n",
       "\n",
       "    .dataframe thead th {\n",
       "        text-align: right;\n",
       "    }\n",
       "</style>\n",
       "<table border=\"1\" class=\"dataframe\">\n",
       "  <thead>\n",
       "    <tr style=\"text-align: right;\">\n",
       "      <th></th>\n",
       "      <th>close</th>\n",
       "      <th>Actual Returns</th>\n",
       "      <th>SMA_Fast</th>\n",
       "      <th>SMA_Slow</th>\n",
       "    </tr>\n",
       "    <tr>\n",
       "      <th>date</th>\n",
       "      <th></th>\n",
       "      <th></th>\n",
       "      <th></th>\n",
       "      <th></th>\n",
       "    </tr>\n",
       "  </thead>\n",
       "  <tbody>\n",
       "    <tr>\n",
       "      <th>2015-04-02 14:45:00</th>\n",
       "      <td>24.92</td>\n",
       "      <td>0.000000</td>\n",
       "      <td>24.9175</td>\n",
       "      <td>24.3214</td>\n",
       "    </tr>\n",
       "    <tr>\n",
       "      <th>2015-04-02 15:00:00</th>\n",
       "      <td>24.92</td>\n",
       "      <td>0.000000</td>\n",
       "      <td>24.9200</td>\n",
       "      <td>24.3308</td>\n",
       "    </tr>\n",
       "    <tr>\n",
       "      <th>2015-04-02 15:15:00</th>\n",
       "      <td>24.94</td>\n",
       "      <td>0.000803</td>\n",
       "      <td>24.9250</td>\n",
       "      <td>24.3360</td>\n",
       "    </tr>\n",
       "    <tr>\n",
       "      <th>2015-04-02 15:30:00</th>\n",
       "      <td>24.95</td>\n",
       "      <td>0.000401</td>\n",
       "      <td>24.9325</td>\n",
       "      <td>24.3411</td>\n",
       "    </tr>\n",
       "    <tr>\n",
       "      <th>2015-04-02 15:45:00</th>\n",
       "      <td>24.98</td>\n",
       "      <td>0.001202</td>\n",
       "      <td>24.9475</td>\n",
       "      <td>24.3463</td>\n",
       "    </tr>\n",
       "  </tbody>\n",
       "</table>\n",
       "</div>"
      ],
      "text/plain": [
       "                     close  Actual Returns  SMA_Fast  SMA_Slow\n",
       "date                                                          \n",
       "2015-04-02 14:45:00  24.92        0.000000   24.9175   24.3214\n",
       "2015-04-02 15:00:00  24.92        0.000000   24.9200   24.3308\n",
       "2015-04-02 15:15:00  24.94        0.000803   24.9250   24.3360\n",
       "2015-04-02 15:30:00  24.95        0.000401   24.9325   24.3411\n",
       "2015-04-02 15:45:00  24.98        0.001202   24.9475   24.3463"
      ]
     },
     "metadata": {},
     "output_type": "display_data"
    },
    {
     "data": {
      "text/html": [
       "<div>\n",
       "<style scoped>\n",
       "    .dataframe tbody tr th:only-of-type {\n",
       "        vertical-align: middle;\n",
       "    }\n",
       "\n",
       "    .dataframe tbody tr th {\n",
       "        vertical-align: top;\n",
       "    }\n",
       "\n",
       "    .dataframe thead th {\n",
       "        text-align: right;\n",
       "    }\n",
       "</style>\n",
       "<table border=\"1\" class=\"dataframe\">\n",
       "  <thead>\n",
       "    <tr style=\"text-align: right;\">\n",
       "      <th></th>\n",
       "      <th>close</th>\n",
       "      <th>Actual Returns</th>\n",
       "      <th>SMA_Fast</th>\n",
       "      <th>SMA_Slow</th>\n",
       "    </tr>\n",
       "    <tr>\n",
       "      <th>date</th>\n",
       "      <th></th>\n",
       "      <th></th>\n",
       "      <th></th>\n",
       "      <th></th>\n",
       "    </tr>\n",
       "  </thead>\n",
       "  <tbody>\n",
       "    <tr>\n",
       "      <th>2021-01-22 09:30:00</th>\n",
       "      <td>33.27</td>\n",
       "      <td>-0.006866</td>\n",
       "      <td>33.2025</td>\n",
       "      <td>30.40215</td>\n",
       "    </tr>\n",
       "    <tr>\n",
       "      <th>2021-01-22 11:30:00</th>\n",
       "      <td>33.35</td>\n",
       "      <td>0.002405</td>\n",
       "      <td>33.2725</td>\n",
       "      <td>30.44445</td>\n",
       "    </tr>\n",
       "    <tr>\n",
       "      <th>2021-01-22 13:45:00</th>\n",
       "      <td>33.42</td>\n",
       "      <td>0.002099</td>\n",
       "      <td>33.3850</td>\n",
       "      <td>30.48745</td>\n",
       "    </tr>\n",
       "    <tr>\n",
       "      <th>2021-01-22 14:30:00</th>\n",
       "      <td>33.47</td>\n",
       "      <td>0.001496</td>\n",
       "      <td>33.3775</td>\n",
       "      <td>30.53085</td>\n",
       "    </tr>\n",
       "    <tr>\n",
       "      <th>2021-01-22 15:45:00</th>\n",
       "      <td>33.44</td>\n",
       "      <td>-0.000896</td>\n",
       "      <td>33.4200</td>\n",
       "      <td>30.57495</td>\n",
       "    </tr>\n",
       "  </tbody>\n",
       "</table>\n",
       "</div>"
      ],
      "text/plain": [
       "                     close  Actual Returns  SMA_Fast  SMA_Slow\n",
       "date                                                          \n",
       "2021-01-22 09:30:00  33.27       -0.006866   33.2025  30.40215\n",
       "2021-01-22 11:30:00  33.35        0.002405   33.2725  30.44445\n",
       "2021-01-22 13:45:00  33.42        0.002099   33.3850  30.48745\n",
       "2021-01-22 14:30:00  33.47        0.001496   33.3775  30.53085\n",
       "2021-01-22 15:45:00  33.44       -0.000896   33.4200  30.57495"
      ]
     },
     "metadata": {},
     "output_type": "display_data"
    }
   ],
   "source": [
    "# Set the short window and long window\n",
    "short_window = 4\n",
    "long_window = 100\n",
    "\n",
    "# Generate the fast and slow simple moving averages (4 and 100 days, respectively)\n",
    "signals_df['SMA_Fast'] = signals_df['close'].rolling(window=short_window).mean()\n",
    "signals_df['SMA_Slow'] = signals_df['close'].rolling(window=long_window).mean()\n",
    "\n",
    "signals_df = signals_df.dropna()\n",
    "\n",
    "# Review the DataFrame\n",
    "display(signals_df.head())\n",
    "display(signals_df.tail())"
   ]
  },
  {
   "cell_type": "code",
   "execution_count": 82,
   "metadata": {},
   "outputs": [
    {
     "data": {
      "text/html": [
       "<div>\n",
       "<style scoped>\n",
       "    .dataframe tbody tr th:only-of-type {\n",
       "        vertical-align: middle;\n",
       "    }\n",
       "\n",
       "    .dataframe tbody tr th {\n",
       "        vertical-align: top;\n",
       "    }\n",
       "\n",
       "    .dataframe thead th {\n",
       "        text-align: right;\n",
       "    }\n",
       "</style>\n",
       "<table border=\"1\" class=\"dataframe\">\n",
       "  <thead>\n",
       "    <tr style=\"text-align: right;\">\n",
       "      <th></th>\n",
       "      <th>close</th>\n",
       "      <th>Actual Returns</th>\n",
       "      <th>SMA_Fast</th>\n",
       "      <th>SMA_Slow</th>\n",
       "      <th>Signal</th>\n",
       "    </tr>\n",
       "    <tr>\n",
       "      <th>date</th>\n",
       "      <th></th>\n",
       "      <th></th>\n",
       "      <th></th>\n",
       "      <th></th>\n",
       "      <th></th>\n",
       "    </tr>\n",
       "  </thead>\n",
       "  <tbody>\n",
       "    <tr>\n",
       "      <th>2015-04-02 14:45:00</th>\n",
       "      <td>24.92</td>\n",
       "      <td>0.000000</td>\n",
       "      <td>24.9175</td>\n",
       "      <td>24.3214</td>\n",
       "      <td>1.0</td>\n",
       "    </tr>\n",
       "    <tr>\n",
       "      <th>2015-04-02 15:00:00</th>\n",
       "      <td>24.92</td>\n",
       "      <td>0.000000</td>\n",
       "      <td>24.9200</td>\n",
       "      <td>24.3308</td>\n",
       "      <td>1.0</td>\n",
       "    </tr>\n",
       "    <tr>\n",
       "      <th>2015-04-02 15:15:00</th>\n",
       "      <td>24.94</td>\n",
       "      <td>0.000803</td>\n",
       "      <td>24.9250</td>\n",
       "      <td>24.3360</td>\n",
       "      <td>1.0</td>\n",
       "    </tr>\n",
       "    <tr>\n",
       "      <th>2015-04-02 15:30:00</th>\n",
       "      <td>24.95</td>\n",
       "      <td>0.000401</td>\n",
       "      <td>24.9325</td>\n",
       "      <td>24.3411</td>\n",
       "      <td>1.0</td>\n",
       "    </tr>\n",
       "    <tr>\n",
       "      <th>2015-04-02 15:45:00</th>\n",
       "      <td>24.98</td>\n",
       "      <td>0.001202</td>\n",
       "      <td>24.9475</td>\n",
       "      <td>24.3463</td>\n",
       "      <td>1.0</td>\n",
       "    </tr>\n",
       "  </tbody>\n",
       "</table>\n",
       "</div>"
      ],
      "text/plain": [
       "                     close  Actual Returns  SMA_Fast  SMA_Slow  Signal\n",
       "date                                                                  \n",
       "2015-04-02 14:45:00  24.92        0.000000   24.9175   24.3214     1.0\n",
       "2015-04-02 15:00:00  24.92        0.000000   24.9200   24.3308     1.0\n",
       "2015-04-02 15:15:00  24.94        0.000803   24.9250   24.3360     1.0\n",
       "2015-04-02 15:30:00  24.95        0.000401   24.9325   24.3411     1.0\n",
       "2015-04-02 15:45:00  24.98        0.001202   24.9475   24.3463     1.0"
      ]
     },
     "metadata": {},
     "output_type": "display_data"
    },
    {
     "data": {
      "text/html": [
       "<div>\n",
       "<style scoped>\n",
       "    .dataframe tbody tr th:only-of-type {\n",
       "        vertical-align: middle;\n",
       "    }\n",
       "\n",
       "    .dataframe tbody tr th {\n",
       "        vertical-align: top;\n",
       "    }\n",
       "\n",
       "    .dataframe thead th {\n",
       "        text-align: right;\n",
       "    }\n",
       "</style>\n",
       "<table border=\"1\" class=\"dataframe\">\n",
       "  <thead>\n",
       "    <tr style=\"text-align: right;\">\n",
       "      <th></th>\n",
       "      <th>close</th>\n",
       "      <th>Actual Returns</th>\n",
       "      <th>SMA_Fast</th>\n",
       "      <th>SMA_Slow</th>\n",
       "      <th>Signal</th>\n",
       "    </tr>\n",
       "    <tr>\n",
       "      <th>date</th>\n",
       "      <th></th>\n",
       "      <th></th>\n",
       "      <th></th>\n",
       "      <th></th>\n",
       "      <th></th>\n",
       "    </tr>\n",
       "  </thead>\n",
       "  <tbody>\n",
       "    <tr>\n",
       "      <th>2021-01-22 09:30:00</th>\n",
       "      <td>33.27</td>\n",
       "      <td>-0.006866</td>\n",
       "      <td>33.2025</td>\n",
       "      <td>30.40215</td>\n",
       "      <td>-1.0</td>\n",
       "    </tr>\n",
       "    <tr>\n",
       "      <th>2021-01-22 11:30:00</th>\n",
       "      <td>33.35</td>\n",
       "      <td>0.002405</td>\n",
       "      <td>33.2725</td>\n",
       "      <td>30.44445</td>\n",
       "      <td>1.0</td>\n",
       "    </tr>\n",
       "    <tr>\n",
       "      <th>2021-01-22 13:45:00</th>\n",
       "      <td>33.42</td>\n",
       "      <td>0.002099</td>\n",
       "      <td>33.3850</td>\n",
       "      <td>30.48745</td>\n",
       "      <td>1.0</td>\n",
       "    </tr>\n",
       "    <tr>\n",
       "      <th>2021-01-22 14:30:00</th>\n",
       "      <td>33.47</td>\n",
       "      <td>0.001496</td>\n",
       "      <td>33.3775</td>\n",
       "      <td>30.53085</td>\n",
       "      <td>1.0</td>\n",
       "    </tr>\n",
       "    <tr>\n",
       "      <th>2021-01-22 15:45:00</th>\n",
       "      <td>33.44</td>\n",
       "      <td>-0.000896</td>\n",
       "      <td>33.4200</td>\n",
       "      <td>30.57495</td>\n",
       "      <td>-1.0</td>\n",
       "    </tr>\n",
       "  </tbody>\n",
       "</table>\n",
       "</div>"
      ],
      "text/plain": [
       "                     close  Actual Returns  SMA_Fast  SMA_Slow  Signal\n",
       "date                                                                  \n",
       "2021-01-22 09:30:00  33.27       -0.006866   33.2025  30.40215    -1.0\n",
       "2021-01-22 11:30:00  33.35        0.002405   33.2725  30.44445     1.0\n",
       "2021-01-22 13:45:00  33.42        0.002099   33.3850  30.48745     1.0\n",
       "2021-01-22 14:30:00  33.47        0.001496   33.3775  30.53085     1.0\n",
       "2021-01-22 15:45:00  33.44       -0.000896   33.4200  30.57495    -1.0"
      ]
     },
     "metadata": {},
     "output_type": "display_data"
    }
   ],
   "source": [
    "# Initialize the new Signal column\n",
    "signals_df['Signal'] = 0.0\n",
    "\n",
    "# When Actual Returns are greater than or equal to 0, generate signal to buy stock long\n",
    "signals_df.loc[(signals_df['Actual Returns'] >= 0), 'Signal'] = 1\n",
    "\n",
    "# When Actual Returns are less than 0, generate signal to sell stock short\n",
    "signals_df.loc[(signals_df['Actual Returns'] < 0), 'Signal'] = -1\n",
    "\n",
    "# Review the DataFrame\n",
    "display(signals_df.head())\n",
    "display(signals_df.tail())"
   ]
  },
  {
   "cell_type": "code",
   "execution_count": 83,
   "metadata": {},
   "outputs": [
    {
     "data": {
      "text/plain": [
       " 1.0    2368\n",
       "-1.0    1855\n",
       "Name: Signal, dtype: int64"
      ]
     },
     "execution_count": 83,
     "metadata": {},
     "output_type": "execute_result"
    }
   ],
   "source": [
    "signals_df['Signal'].value_counts()"
   ]
  },
  {
   "cell_type": "code",
   "execution_count": 84,
   "metadata": {},
   "outputs": [
    {
     "data": {
      "text/html": [
       "<div>\n",
       "<style scoped>\n",
       "    .dataframe tbody tr th:only-of-type {\n",
       "        vertical-align: middle;\n",
       "    }\n",
       "\n",
       "    .dataframe tbody tr th {\n",
       "        vertical-align: top;\n",
       "    }\n",
       "\n",
       "    .dataframe thead th {\n",
       "        text-align: right;\n",
       "    }\n",
       "</style>\n",
       "<table border=\"1\" class=\"dataframe\">\n",
       "  <thead>\n",
       "    <tr style=\"text-align: right;\">\n",
       "      <th></th>\n",
       "      <th>close</th>\n",
       "      <th>Actual Returns</th>\n",
       "      <th>SMA_Fast</th>\n",
       "      <th>SMA_Slow</th>\n",
       "      <th>Signal</th>\n",
       "      <th>Strategy Returns</th>\n",
       "    </tr>\n",
       "    <tr>\n",
       "      <th>date</th>\n",
       "      <th></th>\n",
       "      <th></th>\n",
       "      <th></th>\n",
       "      <th></th>\n",
       "      <th></th>\n",
       "      <th></th>\n",
       "    </tr>\n",
       "  </thead>\n",
       "  <tbody>\n",
       "    <tr>\n",
       "      <th>2015-04-02 14:45:00</th>\n",
       "      <td>24.92</td>\n",
       "      <td>0.000000</td>\n",
       "      <td>24.9175</td>\n",
       "      <td>24.3214</td>\n",
       "      <td>1.0</td>\n",
       "      <td>NaN</td>\n",
       "    </tr>\n",
       "    <tr>\n",
       "      <th>2015-04-02 15:00:00</th>\n",
       "      <td>24.92</td>\n",
       "      <td>0.000000</td>\n",
       "      <td>24.9200</td>\n",
       "      <td>24.3308</td>\n",
       "      <td>1.0</td>\n",
       "      <td>0.000000</td>\n",
       "    </tr>\n",
       "    <tr>\n",
       "      <th>2015-04-02 15:15:00</th>\n",
       "      <td>24.94</td>\n",
       "      <td>0.000803</td>\n",
       "      <td>24.9250</td>\n",
       "      <td>24.3360</td>\n",
       "      <td>1.0</td>\n",
       "      <td>0.000803</td>\n",
       "    </tr>\n",
       "    <tr>\n",
       "      <th>2015-04-02 15:30:00</th>\n",
       "      <td>24.95</td>\n",
       "      <td>0.000401</td>\n",
       "      <td>24.9325</td>\n",
       "      <td>24.3411</td>\n",
       "      <td>1.0</td>\n",
       "      <td>0.000401</td>\n",
       "    </tr>\n",
       "    <tr>\n",
       "      <th>2015-04-02 15:45:00</th>\n",
       "      <td>24.98</td>\n",
       "      <td>0.001202</td>\n",
       "      <td>24.9475</td>\n",
       "      <td>24.3463</td>\n",
       "      <td>1.0</td>\n",
       "      <td>0.001202</td>\n",
       "    </tr>\n",
       "  </tbody>\n",
       "</table>\n",
       "</div>"
      ],
      "text/plain": [
       "                     close  Actual Returns  SMA_Fast  SMA_Slow  Signal  \\\n",
       "date                                                                     \n",
       "2015-04-02 14:45:00  24.92        0.000000   24.9175   24.3214     1.0   \n",
       "2015-04-02 15:00:00  24.92        0.000000   24.9200   24.3308     1.0   \n",
       "2015-04-02 15:15:00  24.94        0.000803   24.9250   24.3360     1.0   \n",
       "2015-04-02 15:30:00  24.95        0.000401   24.9325   24.3411     1.0   \n",
       "2015-04-02 15:45:00  24.98        0.001202   24.9475   24.3463     1.0   \n",
       "\n",
       "                     Strategy Returns  \n",
       "date                                   \n",
       "2015-04-02 14:45:00               NaN  \n",
       "2015-04-02 15:00:00          0.000000  \n",
       "2015-04-02 15:15:00          0.000803  \n",
       "2015-04-02 15:30:00          0.000401  \n",
       "2015-04-02 15:45:00          0.001202  "
      ]
     },
     "metadata": {},
     "output_type": "display_data"
    },
    {
     "data": {
      "text/html": [
       "<div>\n",
       "<style scoped>\n",
       "    .dataframe tbody tr th:only-of-type {\n",
       "        vertical-align: middle;\n",
       "    }\n",
       "\n",
       "    .dataframe tbody tr th {\n",
       "        vertical-align: top;\n",
       "    }\n",
       "\n",
       "    .dataframe thead th {\n",
       "        text-align: right;\n",
       "    }\n",
       "</style>\n",
       "<table border=\"1\" class=\"dataframe\">\n",
       "  <thead>\n",
       "    <tr style=\"text-align: right;\">\n",
       "      <th></th>\n",
       "      <th>close</th>\n",
       "      <th>Actual Returns</th>\n",
       "      <th>SMA_Fast</th>\n",
       "      <th>SMA_Slow</th>\n",
       "      <th>Signal</th>\n",
       "      <th>Strategy Returns</th>\n",
       "    </tr>\n",
       "    <tr>\n",
       "      <th>date</th>\n",
       "      <th></th>\n",
       "      <th></th>\n",
       "      <th></th>\n",
       "      <th></th>\n",
       "      <th></th>\n",
       "      <th></th>\n",
       "    </tr>\n",
       "  </thead>\n",
       "  <tbody>\n",
       "    <tr>\n",
       "      <th>2021-01-22 09:30:00</th>\n",
       "      <td>33.27</td>\n",
       "      <td>-0.006866</td>\n",
       "      <td>33.2025</td>\n",
       "      <td>30.40215</td>\n",
       "      <td>-1.0</td>\n",
       "      <td>-0.006866</td>\n",
       "    </tr>\n",
       "    <tr>\n",
       "      <th>2021-01-22 11:30:00</th>\n",
       "      <td>33.35</td>\n",
       "      <td>0.002405</td>\n",
       "      <td>33.2725</td>\n",
       "      <td>30.44445</td>\n",
       "      <td>1.0</td>\n",
       "      <td>-0.002405</td>\n",
       "    </tr>\n",
       "    <tr>\n",
       "      <th>2021-01-22 13:45:00</th>\n",
       "      <td>33.42</td>\n",
       "      <td>0.002099</td>\n",
       "      <td>33.3850</td>\n",
       "      <td>30.48745</td>\n",
       "      <td>1.0</td>\n",
       "      <td>0.002099</td>\n",
       "    </tr>\n",
       "    <tr>\n",
       "      <th>2021-01-22 14:30:00</th>\n",
       "      <td>33.47</td>\n",
       "      <td>0.001496</td>\n",
       "      <td>33.3775</td>\n",
       "      <td>30.53085</td>\n",
       "      <td>1.0</td>\n",
       "      <td>0.001496</td>\n",
       "    </tr>\n",
       "    <tr>\n",
       "      <th>2021-01-22 15:45:00</th>\n",
       "      <td>33.44</td>\n",
       "      <td>-0.000896</td>\n",
       "      <td>33.4200</td>\n",
       "      <td>30.57495</td>\n",
       "      <td>-1.0</td>\n",
       "      <td>-0.000896</td>\n",
       "    </tr>\n",
       "  </tbody>\n",
       "</table>\n",
       "</div>"
      ],
      "text/plain": [
       "                     close  Actual Returns  SMA_Fast  SMA_Slow  Signal  \\\n",
       "date                                                                     \n",
       "2021-01-22 09:30:00  33.27       -0.006866   33.2025  30.40215    -1.0   \n",
       "2021-01-22 11:30:00  33.35        0.002405   33.2725  30.44445     1.0   \n",
       "2021-01-22 13:45:00  33.42        0.002099   33.3850  30.48745     1.0   \n",
       "2021-01-22 14:30:00  33.47        0.001496   33.3775  30.53085     1.0   \n",
       "2021-01-22 15:45:00  33.44       -0.000896   33.4200  30.57495    -1.0   \n",
       "\n",
       "                     Strategy Returns  \n",
       "date                                   \n",
       "2021-01-22 09:30:00         -0.006866  \n",
       "2021-01-22 11:30:00         -0.002405  \n",
       "2021-01-22 13:45:00          0.002099  \n",
       "2021-01-22 14:30:00          0.001496  \n",
       "2021-01-22 15:45:00         -0.000896  "
      ]
     },
     "metadata": {},
     "output_type": "display_data"
    }
   ],
   "source": [
    "# Calculate the strategy returns and add them to the signals_df DataFrame\n",
    "signals_df['Strategy Returns'] = signals_df['Actual Returns'] * signals_df['Signal'].shift()\n",
    "\n",
    "# Review the DataFrame\n",
    "display(signals_df.head())\n",
    "display(signals_df.tail())"
   ]
  },
  {
   "cell_type": "code",
   "execution_count": 85,
   "metadata": {},
   "outputs": [
    {
     "data": {},
     "metadata": {},
     "output_type": "display_data"
    },
    {
     "data": {
      "application/vnd.holoviews_exec.v0+json": "",
      "text/html": [
       "<div id='2720'>\n",
       "\n",
       "\n",
       "\n",
       "\n",
       "\n",
       "  <div class=\"bk-root\" id=\"87a96a5c-6179-4fd8-ba84-90b6221d321c\" data-root-id=\"2720\"></div>\n",
       "</div>\n",
       "<script type=\"application/javascript\">(function(root) {\n",
       "  function embed_document(root) {\n",
       "    var docs_json = {\"652a9568-a113-4756-93af-6bddc3f98239\":{\"defs\":[{\"extends\":null,\"module\":null,\"name\":\"ReactiveHTML1\",\"overrides\":[],\"properties\":[]},{\"extends\":null,\"module\":null,\"name\":\"FlexBox1\",\"overrides\":[],\"properties\":[{\"default\":\"flex-start\",\"kind\":null,\"name\":\"align_content\"},{\"default\":\"flex-start\",\"kind\":null,\"name\":\"align_items\"},{\"default\":\"row\",\"kind\":null,\"name\":\"flex_direction\"},{\"default\":\"wrap\",\"kind\":null,\"name\":\"flex_wrap\"},{\"default\":\"flex-start\",\"kind\":null,\"name\":\"justify_content\"}]},{\"extends\":null,\"module\":null,\"name\":\"TemplateActions1\",\"overrides\":[],\"properties\":[{\"default\":0,\"kind\":null,\"name\":\"open_modal\"},{\"default\":0,\"kind\":null,\"name\":\"close_modal\"}]},{\"extends\":null,\"module\":null,\"name\":\"MaterialTemplateActions1\",\"overrides\":[],\"properties\":[{\"default\":0,\"kind\":null,\"name\":\"open_modal\"},{\"default\":0,\"kind\":null,\"name\":\"close_modal\"}]}],\"roots\":{\"references\":[{\"attributes\":{},\"id\":\"2742\",\"type\":\"SaveTool\"},{\"attributes\":{},\"id\":\"2767\",\"type\":\"BasicTickFormatter\"},{\"attributes\":{},\"id\":\"2756\",\"type\":\"Selection\"},{\"attributes\":{\"data_source\":{\"id\":\"2755\"},\"glyph\":{\"id\":\"2758\"},\"hover_glyph\":null,\"muted_glyph\":{\"id\":\"2760\"},\"nonselection_glyph\":{\"id\":\"2759\"},\"selection_glyph\":{\"id\":\"2763\"},\"view\":{\"id\":\"2762\"}},\"id\":\"2761\",\"type\":\"GlyphRenderer\"},{\"attributes\":{\"active_multi\":null,\"tools\":[{\"id\":\"2724\"},{\"id\":\"2742\"},{\"id\":\"2743\"},{\"id\":\"2744\"},{\"id\":\"2745\"},{\"id\":\"2746\"}]},\"id\":\"2748\",\"type\":\"Toolbar\"},{\"attributes\":{\"source\":{\"id\":\"2755\"}},\"id\":\"2762\",\"type\":\"CDSView\"},{\"attributes\":{},\"id\":\"2788\",\"type\":\"YearsTicker\"},{\"attributes\":{\"months\":[0,6]},\"id\":\"2787\",\"type\":\"MonthsTicker\"},{\"attributes\":{\"margin\":[5,5,5,5],\"name\":\"HSpacer03233\",\"sizing_mode\":\"stretch_width\"},\"id\":\"2814\",\"type\":\"Spacer\"},{\"attributes\":{\"bottom_units\":\"screen\",\"fill_alpha\":0.5,\"fill_color\":\"lightgrey\",\"left_units\":\"screen\",\"level\":\"overlay\",\"line_alpha\":1.0,\"line_color\":\"black\",\"line_dash\":[4,4],\"line_width\":2,\"right_units\":\"screen\",\"syncable\":false,\"top_units\":\"screen\"},\"id\":\"2747\",\"type\":\"BoxAnnotation\"},{\"attributes\":{\"line_alpha\":0.2,\"line_color\":\"#30a2da\",\"line_width\":2,\"x\":{\"field\":\"date\"},\"y\":{\"field\":\"Strategy Returns\"}},\"id\":\"2760\",\"type\":\"Line\"},{\"attributes\":{\"axis_label\":\"date\",\"formatter\":{\"id\":\"2764\"},\"major_label_policy\":{\"id\":\"2765\"},\"ticker\":{\"id\":\"2735\"}},\"id\":\"2734\",\"type\":\"DatetimeAxis\"},{\"attributes\":{},\"id\":\"2743\",\"type\":\"PanTool\"},{\"attributes\":{},\"id\":\"2732\",\"type\":\"LinearScale\"},{\"attributes\":{\"line_alpha\":0.1,\"line_color\":\"#30a2da\",\"line_width\":2,\"x\":{\"field\":\"date\"},\"y\":{\"field\":\"Strategy Returns\"}},\"id\":\"2759\",\"type\":\"Line\"},{\"attributes\":{\"overlay\":{\"id\":\"2747\"}},\"id\":\"2745\",\"type\":\"BoxZoomTool\"},{\"attributes\":{\"days\":[1,8,15,22]},\"id\":\"2782\",\"type\":\"DaysTicker\"},{\"attributes\":{\"text\":\"Strategy Returns\",\"text_color\":\"black\",\"text_font_size\":\"12pt\"},\"id\":\"2726\",\"type\":\"Title\"},{\"attributes\":{\"mantissas\":[1,2,5],\"max_interval\":500.0,\"num_minor_ticks\":0},\"id\":\"2777\",\"type\":\"AdaptiveTicker\"},{\"attributes\":{\"num_minor_ticks\":5,\"tickers\":[{\"id\":\"2777\"},{\"id\":\"2778\"},{\"id\":\"2779\"},{\"id\":\"2780\"},{\"id\":\"2781\"},{\"id\":\"2782\"},{\"id\":\"2783\"},{\"id\":\"2784\"},{\"id\":\"2785\"},{\"id\":\"2786\"},{\"id\":\"2787\"},{\"id\":\"2788\"}]},\"id\":\"2735\",\"type\":\"DatetimeTicker\"},{\"attributes\":{\"base\":60,\"mantissas\":[1,2,5,10,15,20,30],\"max_interval\":1800000.0,\"min_interval\":1000.0,\"num_minor_ticks\":0},\"id\":\"2778\",\"type\":\"AdaptiveTicker\"},{\"attributes\":{\"below\":[{\"id\":\"2734\"}],\"center\":[{\"id\":\"2737\"},{\"id\":\"2741\"}],\"height\":300,\"left\":[{\"id\":\"2738\"}],\"margin\":[5,5,5,5],\"min_border_bottom\":10,\"min_border_left\":10,\"min_border_right\":10,\"min_border_top\":10,\"renderers\":[{\"id\":\"2761\"}],\"sizing_mode\":\"fixed\",\"title\":{\"id\":\"2726\"},\"toolbar\":{\"id\":\"2748\"},\"width\":700,\"x_range\":{\"id\":\"2722\"},\"x_scale\":{\"id\":\"2730\"},\"y_range\":{\"id\":\"2723\"},\"y_scale\":{\"id\":\"2732\"}},\"id\":\"2725\",\"subtype\":\"Figure\",\"type\":\"Plot\"},{\"attributes\":{},\"id\":\"2744\",\"type\":\"WheelZoomTool\"},{\"attributes\":{\"end\":1611330300000.0,\"reset_end\":1611330300000.0,\"reset_start\":1427985900000.0,\"start\":1427985900000.0,\"tags\":[[[\"date\",\"date\",null]]]},\"id\":\"2722\",\"type\":\"Range1d\"},{\"attributes\":{\"days\":[1,15]},\"id\":\"2783\",\"type\":\"DaysTicker\"},{\"attributes\":{\"months\":[0,1,2,3,4,5,6,7,8,9,10,11]},\"id\":\"2784\",\"type\":\"MonthsTicker\"},{\"attributes\":{\"months\":[0,4,8]},\"id\":\"2786\",\"type\":\"MonthsTicker\"},{\"attributes\":{},\"id\":\"2765\",\"type\":\"AllLabels\"},{\"attributes\":{\"callback\":null,\"formatters\":{\"@{date}\":\"datetime\"},\"renderers\":[{\"id\":\"2761\"}],\"tags\":[\"hv_created\"],\"tooltips\":[[\"date\",\"@{date}{%F %T}\"],[\"Strategy Returns\",\"@{Strategy_Returns}\"]]},\"id\":\"2724\",\"type\":\"HoverTool\"},{\"attributes\":{\"base\":24,\"mantissas\":[1,2,4,6,8,12],\"max_interval\":43200000.0,\"min_interval\":3600000.0,\"num_minor_ticks\":0},\"id\":\"2779\",\"type\":\"AdaptiveTicker\"},{\"attributes\":{\"line_color\":\"#30a2da\",\"line_width\":2,\"x\":{\"field\":\"date\"},\"y\":{\"field\":\"Strategy Returns\"}},\"id\":\"2758\",\"type\":\"Line\"},{\"attributes\":{},\"id\":\"2789\",\"type\":\"UnionRenderers\"},{\"attributes\":{\"axis\":{\"id\":\"2738\"},\"dimension\":1,\"grid_line_color\":null,\"ticker\":null},\"id\":\"2741\",\"type\":\"Grid\"},{\"attributes\":{\"days\":[1,2,3,4,5,6,7,8,9,10,11,12,13,14,15,16,17,18,19,20,21,22,23,24,25,26,27,28,29,30,31]},\"id\":\"2780\",\"type\":\"DaysTicker\"},{\"attributes\":{\"children\":[{\"id\":\"2721\"},{\"id\":\"2725\"},{\"id\":\"2814\"}],\"margin\":[0,0,0,0],\"name\":\"Row03228\",\"tags\":[\"embedded\"]},\"id\":\"2720\",\"type\":\"Row\"},{\"attributes\":{\"margin\":[5,5,5,5],\"name\":\"HSpacer03232\",\"sizing_mode\":\"stretch_width\"},\"id\":\"2721\",\"type\":\"Spacer\"},{\"attributes\":{\"axis_label\":\"\",\"formatter\":{\"id\":\"2767\"},\"major_label_policy\":{\"id\":\"2768\"},\"ticker\":{\"id\":\"2739\"}},\"id\":\"2738\",\"type\":\"LinearAxis\"},{\"attributes\":{\"data\":{\"Strategy Returns\":{\"__ndarray__\":\"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\",\"dtype\":\"float64\",\"order\":\"little\",\"shape\":[4223]},\"Strategy_Returns\":{\"__ndarray__\":\"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\",\"dtype\":\"float64\",\"order\":\"little\",\"shape\":[4223]},\"date\":{\"__ndarray__\":\"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\",\"dtype\":\"float64\",\"order\":\"little\",\"shape\":[4223]}},\"selected\":{\"id\":\"2756\"},\"selection_policy\":{\"id\":\"2789\"}},\"id\":\"2755\",\"type\":\"ColumnDataSource\"},{\"attributes\":{\"line_color\":\"#30a2da\",\"line_width\":2,\"x\":{\"field\":\"date\"},\"y\":{\"field\":\"Strategy Returns\"}},\"id\":\"2763\",\"type\":\"Line\"},{\"attributes\":{\"end\":1.0680023955357238,\"reset_end\":1.0680023955357238,\"reset_start\":0.4802106670839276,\"start\":0.4802106670839276,\"tags\":[[[\"Strategy Returns\",\"Strategy Returns\",null]]]},\"id\":\"2723\",\"type\":\"Range1d\"},{\"attributes\":{\"days\":[1,4,7,10,13,16,19,22,25,28]},\"id\":\"2781\",\"type\":\"DaysTicker\"},{\"attributes\":{},\"id\":\"2768\",\"type\":\"AllLabels\"},{\"attributes\":{},\"id\":\"2746\",\"type\":\"ResetTool\"},{\"attributes\":{\"months\":[0,2,4,6,8,10]},\"id\":\"2785\",\"type\":\"MonthsTicker\"},{\"attributes\":{\"axis\":{\"id\":\"2734\"},\"grid_line_color\":null,\"ticker\":null},\"id\":\"2737\",\"type\":\"Grid\"},{\"attributes\":{},\"id\":\"2730\",\"type\":\"LinearScale\"},{\"attributes\":{},\"id\":\"2739\",\"type\":\"BasicTicker\"},{\"attributes\":{},\"id\":\"2764\",\"type\":\"DatetimeTickFormatter\"}],\"root_ids\":[\"2720\"]},\"title\":\"Bokeh Application\",\"version\":\"2.3.2\"}};\n",
       "    var render_items = [{\"docid\":\"652a9568-a113-4756-93af-6bddc3f98239\",\"root_ids\":[\"2720\"],\"roots\":{\"2720\":\"87a96a5c-6179-4fd8-ba84-90b6221d321c\"}}];\n",
       "    root.Bokeh.embed.embed_items_notebook(docs_json, render_items);\n",
       "  }\n",
       "  if (root.Bokeh !== undefined && root.Bokeh.Panel !== undefined) {\n",
       "    embed_document(root);\n",
       "  } else {\n",
       "    var attempts = 0;\n",
       "    var timer = setInterval(function(root) {\n",
       "      if (root.Bokeh !== undefined && root.Bokeh.Panel !== undefined) {\n",
       "        clearInterval(timer);\n",
       "        embed_document(root);\n",
       "      } else if (document.readyState == \"complete\") {\n",
       "        attempts++;\n",
       "        if (attempts > 200) {\n",
       "          clearInterval(timer);\n",
       "          console.log(\"Bokeh: ERROR: Unable to run BokehJS code because BokehJS library is missing\");\n",
       "        }\n",
       "      }\n",
       "    }, 25, root)\n",
       "  }\n",
       "})(window);</script>"
      ],
      "text/plain": [
       ":Curve   [date]   (Strategy Returns)"
      ]
     },
     "execution_count": 85,
     "metadata": {
      "application/vnd.holoviews_exec.v0+json": {
       "id": "2720"
      }
     },
     "output_type": "execute_result"
    }
   ],
   "source": [
    "# Plot Strategy Returns to examine performance\n",
    "(1 + signals_df['Strategy Returns']).cumprod().hvplot()"
   ]
  },
  {
   "cell_type": "markdown",
   "metadata": {},
   "source": [
    "### Step 3: Split the data into training and testing datasets."
   ]
  },
  {
   "cell_type": "code",
   "execution_count": 86,
   "metadata": {},
   "outputs": [
    {
     "data": {
      "text/html": [
       "<div>\n",
       "<style scoped>\n",
       "    .dataframe tbody tr th:only-of-type {\n",
       "        vertical-align: middle;\n",
       "    }\n",
       "\n",
       "    .dataframe tbody tr th {\n",
       "        vertical-align: top;\n",
       "    }\n",
       "\n",
       "    .dataframe thead th {\n",
       "        text-align: right;\n",
       "    }\n",
       "</style>\n",
       "<table border=\"1\" class=\"dataframe\">\n",
       "  <thead>\n",
       "    <tr style=\"text-align: right;\">\n",
       "      <th></th>\n",
       "      <th>SMA_Fast</th>\n",
       "      <th>SMA_Slow</th>\n",
       "    </tr>\n",
       "    <tr>\n",
       "      <th>date</th>\n",
       "      <th></th>\n",
       "      <th></th>\n",
       "    </tr>\n",
       "  </thead>\n",
       "  <tbody>\n",
       "    <tr>\n",
       "      <th>2015-04-02 15:00:00</th>\n",
       "      <td>24.9175</td>\n",
       "      <td>24.3214</td>\n",
       "    </tr>\n",
       "    <tr>\n",
       "      <th>2015-04-02 15:15:00</th>\n",
       "      <td>24.9200</td>\n",
       "      <td>24.3308</td>\n",
       "    </tr>\n",
       "    <tr>\n",
       "      <th>2015-04-02 15:30:00</th>\n",
       "      <td>24.9250</td>\n",
       "      <td>24.3360</td>\n",
       "    </tr>\n",
       "    <tr>\n",
       "      <th>2015-04-02 15:45:00</th>\n",
       "      <td>24.9325</td>\n",
       "      <td>24.3411</td>\n",
       "    </tr>\n",
       "    <tr>\n",
       "      <th>2015-04-06 09:30:00</th>\n",
       "      <td>24.9475</td>\n",
       "      <td>24.3463</td>\n",
       "    </tr>\n",
       "  </tbody>\n",
       "</table>\n",
       "</div>"
      ],
      "text/plain": [
       "                     SMA_Fast  SMA_Slow\n",
       "date                                   \n",
       "2015-04-02 15:00:00   24.9175   24.3214\n",
       "2015-04-02 15:15:00   24.9200   24.3308\n",
       "2015-04-02 15:30:00   24.9250   24.3360\n",
       "2015-04-02 15:45:00   24.9325   24.3411\n",
       "2015-04-06 09:30:00   24.9475   24.3463"
      ]
     },
     "execution_count": 86,
     "metadata": {},
     "output_type": "execute_result"
    }
   ],
   "source": [
    "# Assign a copy of the sma_fast and sma_slow columns to a features DataFrame called X\n",
    "X = signals_df[['SMA_Fast', 'SMA_Slow']].shift().dropna()\n",
    "\n",
    "# Review the DataFrame\n",
    "X.head()"
   ]
  },
  {
   "cell_type": "code",
   "execution_count": 87,
   "metadata": {},
   "outputs": [
    {
     "data": {
      "text/plain": [
       " 1.0    2368\n",
       "-1.0    1855\n",
       "Name: Signal, dtype: int64"
      ]
     },
     "execution_count": 87,
     "metadata": {},
     "output_type": "execute_result"
    }
   ],
   "source": [
    "# Create the target set selecting the Signal column and assiging it to y\n",
    "y = signals_df['Signal']\n",
    "\n",
    "# Review the value counts\n",
    "y.value_counts()"
   ]
  },
  {
   "cell_type": "code",
   "execution_count": 88,
   "metadata": {},
   "outputs": [
    {
     "name": "stdout",
     "output_type": "stream",
     "text": [
      "2015-04-02 15:00:00\n"
     ]
    }
   ],
   "source": [
    "# Select the start of the training period\n",
    "training_begin = X.index.min()\n",
    "\n",
    "# Display the training begin date\n",
    "print(training_begin)"
   ]
  },
  {
   "cell_type": "code",
   "execution_count": 89,
   "metadata": {},
   "outputs": [
    {
     "name": "stdout",
     "output_type": "stream",
     "text": [
      "2019-01-02 15:00:00\n"
     ]
    }
   ],
   "source": [
    "# Select the ending period for the training data with an offset of 3 months\n",
    "training_end = X.index.min() + DateOffset(months=45)\n",
    "\n",
    "# Display the training end date\n",
    "print(training_end)"
   ]
  },
  {
   "cell_type": "code",
   "execution_count": 90,
   "metadata": {},
   "outputs": [
    {
     "data": {
      "text/html": [
       "<div>\n",
       "<style scoped>\n",
       "    .dataframe tbody tr th:only-of-type {\n",
       "        vertical-align: middle;\n",
       "    }\n",
       "\n",
       "    .dataframe tbody tr th {\n",
       "        vertical-align: top;\n",
       "    }\n",
       "\n",
       "    .dataframe thead th {\n",
       "        text-align: right;\n",
       "    }\n",
       "</style>\n",
       "<table border=\"1\" class=\"dataframe\">\n",
       "  <thead>\n",
       "    <tr style=\"text-align: right;\">\n",
       "      <th></th>\n",
       "      <th>SMA_Fast</th>\n",
       "      <th>SMA_Slow</th>\n",
       "    </tr>\n",
       "    <tr>\n",
       "      <th>date</th>\n",
       "      <th></th>\n",
       "      <th></th>\n",
       "    </tr>\n",
       "  </thead>\n",
       "  <tbody>\n",
       "    <tr>\n",
       "      <th>2015-04-02 15:00:00</th>\n",
       "      <td>24.9175</td>\n",
       "      <td>24.3214</td>\n",
       "    </tr>\n",
       "    <tr>\n",
       "      <th>2015-04-02 15:15:00</th>\n",
       "      <td>24.9200</td>\n",
       "      <td>24.3308</td>\n",
       "    </tr>\n",
       "    <tr>\n",
       "      <th>2015-04-02 15:30:00</th>\n",
       "      <td>24.9250</td>\n",
       "      <td>24.3360</td>\n",
       "    </tr>\n",
       "    <tr>\n",
       "      <th>2015-04-02 15:45:00</th>\n",
       "      <td>24.9325</td>\n",
       "      <td>24.3411</td>\n",
       "    </tr>\n",
       "    <tr>\n",
       "      <th>2015-04-06 09:30:00</th>\n",
       "      <td>24.9475</td>\n",
       "      <td>24.3463</td>\n",
       "    </tr>\n",
       "  </tbody>\n",
       "</table>\n",
       "</div>"
      ],
      "text/plain": [
       "                     SMA_Fast  SMA_Slow\n",
       "date                                   \n",
       "2015-04-02 15:00:00   24.9175   24.3214\n",
       "2015-04-02 15:15:00   24.9200   24.3308\n",
       "2015-04-02 15:30:00   24.9250   24.3360\n",
       "2015-04-02 15:45:00   24.9325   24.3411\n",
       "2015-04-06 09:30:00   24.9475   24.3463"
      ]
     },
     "execution_count": 90,
     "metadata": {},
     "output_type": "execute_result"
    }
   ],
   "source": [
    "# Generate the X_train and y_train DataFrames\n",
    "X_train = X.loc[training_begin:training_end]\n",
    "y_train = y.loc[training_begin:training_end]\n",
    "\n",
    "# Review the X_train DataFrame\n",
    "X_train.head()"
   ]
  },
  {
   "cell_type": "code",
   "execution_count": 91,
   "metadata": {},
   "outputs": [
    {
     "data": {
      "text/html": [
       "<div>\n",
       "<style scoped>\n",
       "    .dataframe tbody tr th:only-of-type {\n",
       "        vertical-align: middle;\n",
       "    }\n",
       "\n",
       "    .dataframe tbody tr th {\n",
       "        vertical-align: top;\n",
       "    }\n",
       "\n",
       "    .dataframe thead th {\n",
       "        text-align: right;\n",
       "    }\n",
       "</style>\n",
       "<table border=\"1\" class=\"dataframe\">\n",
       "  <thead>\n",
       "    <tr style=\"text-align: right;\">\n",
       "      <th></th>\n",
       "      <th>SMA_Fast</th>\n",
       "      <th>SMA_Slow</th>\n",
       "    </tr>\n",
       "    <tr>\n",
       "      <th>date</th>\n",
       "      <th></th>\n",
       "      <th></th>\n",
       "    </tr>\n",
       "  </thead>\n",
       "  <tbody>\n",
       "    <tr>\n",
       "      <th>2015-04-02 15:00:00</th>\n",
       "      <td>24.9175</td>\n",
       "      <td>24.3214</td>\n",
       "    </tr>\n",
       "    <tr>\n",
       "      <th>2015-04-02 15:15:00</th>\n",
       "      <td>24.9200</td>\n",
       "      <td>24.3308</td>\n",
       "    </tr>\n",
       "    <tr>\n",
       "      <th>2015-04-02 15:30:00</th>\n",
       "      <td>24.9250</td>\n",
       "      <td>24.3360</td>\n",
       "    </tr>\n",
       "    <tr>\n",
       "      <th>2015-04-02 15:45:00</th>\n",
       "      <td>24.9325</td>\n",
       "      <td>24.3411</td>\n",
       "    </tr>\n",
       "    <tr>\n",
       "      <th>2015-04-06 09:30:00</th>\n",
       "      <td>24.9475</td>\n",
       "      <td>24.3463</td>\n",
       "    </tr>\n",
       "  </tbody>\n",
       "</table>\n",
       "</div>"
      ],
      "text/plain": [
       "                     SMA_Fast  SMA_Slow\n",
       "date                                   \n",
       "2015-04-02 15:00:00   24.9175   24.3214\n",
       "2015-04-02 15:15:00   24.9200   24.3308\n",
       "2015-04-02 15:30:00   24.9250   24.3360\n",
       "2015-04-02 15:45:00   24.9325   24.3411\n",
       "2015-04-06 09:30:00   24.9475   24.3463"
      ]
     },
     "execution_count": 91,
     "metadata": {},
     "output_type": "execute_result"
    }
   ],
   "source": [
    "# Generate the X_test and y_test DataFrames\n",
    "X_test = X.loc[training_end+DateOffset(hours=1):]\n",
    "y_test = y.loc[training_end+DateOffset(hours=1):]\n",
    "\n",
    "# Review the X_test DataFrame\n",
    "X_train.head()"
   ]
  },
  {
   "cell_type": "code",
   "execution_count": 92,
   "metadata": {},
   "outputs": [],
   "source": [
    "# Scale the features DataFrames\n",
    "\n",
    "# Create a StandardScaler instance\n",
    "scaler = StandardScaler()\n",
    "\n",
    "# Apply the scaler model to fit the X-train data\n",
    "X_scaler = scaler.fit(X_train)\n",
    "\n",
    "# Transform the X_train and X_test DataFrames using the X_scaler\n",
    "X_train_scaled = X_scaler.transform(X_train)\n",
    "X_test_scaled = X_scaler.transform(X_test)"
   ]
  },
  {
   "cell_type": "markdown",
   "metadata": {},
   "source": [
    "### Step 4: Use the `SVC` classifier model from SKLearn's support vector machine (SVM) learning method to fit the training data and make predictions based on the testing data. Review the predictions."
   ]
  },
  {
   "cell_type": "code",
   "execution_count": 93,
   "metadata": {},
   "outputs": [
    {
     "data": {
      "text/plain": [
       "array([1., 1., 1., ..., 1., 1., 1.])"
      ]
     },
     "execution_count": 93,
     "metadata": {},
     "output_type": "execute_result"
    }
   ],
   "source": [
    "# From SVM, instantiate SVC classifier model instance\n",
    "svm_model = SVC()\n",
    "\n",
    "# Fit the model to the data using the training data\n",
    "svm_model = svm_model.fit(X_train_scaled, y_train)\n",
    " \n",
    "# Use the testing data to make the model predictions\n",
    "svm_pred = svm_model.predict(X_test_scaled)\n",
    "\n",
    "# Review the model's predicted values\n",
    "svm_pred\n"
   ]
  },
  {
   "cell_type": "markdown",
   "metadata": {},
   "source": [
    "### Step 5: Review the classification report associated with the `SVC` model predictions. "
   ]
  },
  {
   "cell_type": "code",
   "execution_count": 94,
   "metadata": {},
   "outputs": [
    {
     "name": "stdout",
     "output_type": "stream",
     "text": [
      "              precision    recall  f1-score   support\n",
      "\n",
      "        -1.0       0.00      0.00      0.00       476\n",
      "         1.0       0.56      1.00      0.72       614\n",
      "\n",
      "    accuracy                           0.56      1090\n",
      "   macro avg       0.28      0.50      0.36      1090\n",
      "weighted avg       0.32      0.56      0.41      1090\n",
      "\n"
     ]
    },
    {
     "name": "stderr",
     "output_type": "stream",
     "text": [
      "/Users/raymondhurst/opt/anaconda3/envs/dev/lib/python3.7/site-packages/sklearn/metrics/_classification.py:1245: UndefinedMetricWarning: Precision and F-score are ill-defined and being set to 0.0 in labels with no predicted samples. Use `zero_division` parameter to control this behavior.\n",
      "  _warn_prf(average, modifier, msg_start, len(result))\n",
      "/Users/raymondhurst/opt/anaconda3/envs/dev/lib/python3.7/site-packages/sklearn/metrics/_classification.py:1245: UndefinedMetricWarning: Precision and F-score are ill-defined and being set to 0.0 in labels with no predicted samples. Use `zero_division` parameter to control this behavior.\n",
      "  _warn_prf(average, modifier, msg_start, len(result))\n",
      "/Users/raymondhurst/opt/anaconda3/envs/dev/lib/python3.7/site-packages/sklearn/metrics/_classification.py:1245: UndefinedMetricWarning: Precision and F-score are ill-defined and being set to 0.0 in labels with no predicted samples. Use `zero_division` parameter to control this behavior.\n",
      "  _warn_prf(average, modifier, msg_start, len(result))\n"
     ]
    }
   ],
   "source": [
    "# Use a classification report to evaluate the model using the predictions and testing data\n",
    "svm_testing_report = classification_report(y_test, svm_pred)\n",
    "\n",
    "\n",
    "\n",
    "# Print the classification report\n",
    "print(svm_testing_report)\n"
   ]
  },
  {
   "cell_type": "code",
   "execution_count": 95,
   "metadata": {},
   "outputs": [
    {
     "data": {
      "text/plain": [
       "date\n",
       "2015-04-02 14:45:00         NaN\n",
       "2015-04-02 15:00:00    0.000000\n",
       "2015-04-02 15:15:00    0.000803\n",
       "2015-04-02 15:30:00    0.000401\n",
       "2015-04-02 15:45:00    0.001202\n",
       "                         ...   \n",
       "2021-01-22 09:30:00   -0.006866\n",
       "2021-01-22 11:30:00   -0.002405\n",
       "2021-01-22 13:45:00    0.002099\n",
       "2021-01-22 14:30:00    0.001496\n",
       "2021-01-22 15:45:00   -0.000896\n",
       "Name: Strategy Returns, Length: 4223, dtype: float64"
      ]
     },
     "execution_count": 95,
     "metadata": {},
     "output_type": "execute_result"
    }
   ],
   "source": [
    "# signals_df['Actual Returns']\n",
    "\n",
    "signals_df['Strategy Returns']"
   ]
  },
  {
   "cell_type": "markdown",
   "metadata": {},
   "source": [
    "### Step 6: Create a predictions DataFrame that contains columns for “Predicted” values, “Actual Returns”, and “Strategy Returns”."
   ]
  },
  {
   "cell_type": "code",
   "execution_count": 96,
   "metadata": {},
   "outputs": [
    {
     "data": {
      "text/plain": [
       "1.0    1090\n",
       "Name: Predicted, dtype: int64"
      ]
     },
     "metadata": {},
     "output_type": "display_data"
    },
    {
     "data": {
      "text/html": [
       "<div>\n",
       "<style scoped>\n",
       "    .dataframe tbody tr th:only-of-type {\n",
       "        vertical-align: middle;\n",
       "    }\n",
       "\n",
       "    .dataframe tbody tr th {\n",
       "        vertical-align: top;\n",
       "    }\n",
       "\n",
       "    .dataframe thead th {\n",
       "        text-align: right;\n",
       "    }\n",
       "</style>\n",
       "<table border=\"1\" class=\"dataframe\">\n",
       "  <thead>\n",
       "    <tr style=\"text-align: right;\">\n",
       "      <th></th>\n",
       "      <th>Predicted</th>\n",
       "      <th>Actual Returns</th>\n",
       "      <th>Strategy Returns</th>\n",
       "    </tr>\n",
       "    <tr>\n",
       "      <th>date</th>\n",
       "      <th></th>\n",
       "      <th></th>\n",
       "      <th></th>\n",
       "    </tr>\n",
       "  </thead>\n",
       "  <tbody>\n",
       "    <tr>\n",
       "      <th>2019-01-03 09:45:00</th>\n",
       "      <td>1.0</td>\n",
       "      <td>-0.009957</td>\n",
       "      <td>0.009957</td>\n",
       "    </tr>\n",
       "    <tr>\n",
       "      <th>2019-01-03 12:00:00</th>\n",
       "      <td>1.0</td>\n",
       "      <td>0.000437</td>\n",
       "      <td>-0.000437</td>\n",
       "    </tr>\n",
       "    <tr>\n",
       "      <th>2019-01-03 14:45:00</th>\n",
       "      <td>1.0</td>\n",
       "      <td>-0.004808</td>\n",
       "      <td>-0.004808</td>\n",
       "    </tr>\n",
       "    <tr>\n",
       "      <th>2019-01-03 15:30:00</th>\n",
       "      <td>1.0</td>\n",
       "      <td>-0.002635</td>\n",
       "      <td>0.002635</td>\n",
       "    </tr>\n",
       "    <tr>\n",
       "      <th>2019-01-03 15:45:00</th>\n",
       "      <td>1.0</td>\n",
       "      <td>0.002642</td>\n",
       "      <td>-0.002642</td>\n",
       "    </tr>\n",
       "  </tbody>\n",
       "</table>\n",
       "</div>"
      ],
      "text/plain": [
       "                     Predicted  Actual Returns  Strategy Returns\n",
       "date                                                            \n",
       "2019-01-03 09:45:00        1.0       -0.009957          0.009957\n",
       "2019-01-03 12:00:00        1.0        0.000437         -0.000437\n",
       "2019-01-03 14:45:00        1.0       -0.004808         -0.004808\n",
       "2019-01-03 15:30:00        1.0       -0.002635          0.002635\n",
       "2019-01-03 15:45:00        1.0        0.002642         -0.002642"
      ]
     },
     "metadata": {},
     "output_type": "display_data"
    },
    {
     "data": {
      "text/html": [
       "<div>\n",
       "<style scoped>\n",
       "    .dataframe tbody tr th:only-of-type {\n",
       "        vertical-align: middle;\n",
       "    }\n",
       "\n",
       "    .dataframe tbody tr th {\n",
       "        vertical-align: top;\n",
       "    }\n",
       "\n",
       "    .dataframe thead th {\n",
       "        text-align: right;\n",
       "    }\n",
       "</style>\n",
       "<table border=\"1\" class=\"dataframe\">\n",
       "  <thead>\n",
       "    <tr style=\"text-align: right;\">\n",
       "      <th></th>\n",
       "      <th>Predicted</th>\n",
       "      <th>Actual Returns</th>\n",
       "      <th>Strategy Returns</th>\n",
       "    </tr>\n",
       "    <tr>\n",
       "      <th>date</th>\n",
       "      <th></th>\n",
       "      <th></th>\n",
       "      <th></th>\n",
       "    </tr>\n",
       "  </thead>\n",
       "  <tbody>\n",
       "    <tr>\n",
       "      <th>2021-01-22 09:30:00</th>\n",
       "      <td>1.0</td>\n",
       "      <td>-0.006866</td>\n",
       "      <td>-0.006866</td>\n",
       "    </tr>\n",
       "    <tr>\n",
       "      <th>2021-01-22 11:30:00</th>\n",
       "      <td>1.0</td>\n",
       "      <td>0.002405</td>\n",
       "      <td>-0.002405</td>\n",
       "    </tr>\n",
       "    <tr>\n",
       "      <th>2021-01-22 13:45:00</th>\n",
       "      <td>1.0</td>\n",
       "      <td>0.002099</td>\n",
       "      <td>0.002099</td>\n",
       "    </tr>\n",
       "    <tr>\n",
       "      <th>2021-01-22 14:30:00</th>\n",
       "      <td>1.0</td>\n",
       "      <td>0.001496</td>\n",
       "      <td>0.001496</td>\n",
       "    </tr>\n",
       "    <tr>\n",
       "      <th>2021-01-22 15:45:00</th>\n",
       "      <td>1.0</td>\n",
       "      <td>-0.000896</td>\n",
       "      <td>-0.000896</td>\n",
       "    </tr>\n",
       "  </tbody>\n",
       "</table>\n",
       "</div>"
      ],
      "text/plain": [
       "                     Predicted  Actual Returns  Strategy Returns\n",
       "date                                                            \n",
       "2021-01-22 09:30:00        1.0       -0.006866         -0.006866\n",
       "2021-01-22 11:30:00        1.0        0.002405         -0.002405\n",
       "2021-01-22 13:45:00        1.0        0.002099          0.002099\n",
       "2021-01-22 14:30:00        1.0        0.001496          0.001496\n",
       "2021-01-22 15:45:00        1.0       -0.000896         -0.000896"
      ]
     },
     "metadata": {},
     "output_type": "display_data"
    }
   ],
   "source": [
    "# Create a new empty predictions DataFrame.\n",
    "\"\"\"\n",
    " # Create a new empty predictions DataFrame using code provided below.\n",
    "predictions_df = pd.DataFrame(index=X_test.index)\n",
    "predictions_df['predicted_returns'] = testing_signal_predictions\n",
    "predictions_df['predicted_returns'].value_counts()\n",
    "\n",
    "\"\"\"\n",
    "\n",
    "\n",
    "\n",
    "# Create a predictions DataFrame\n",
    "predictions_df = pd.DataFrame(index = X_test.index)\n",
    "\n",
    "# Add the SVM model predictions to the DataFrame\n",
    "predictions_df['Predicted'] = svm_pred\n",
    "\n",
    "# Add the actual returns to the DataFrame\n",
    "predictions_df['Actual Returns'] = signals_df['Actual Returns']\n",
    "\n",
    "# Add the strategy returns to the DataFrame\n",
    "predictions_df['Strategy Returns'] = signals_df['Strategy Returns']\n",
    "\n",
    "# Review the DataFrame\n",
    "display(predictions_df['Predicted'].value_counts())\n",
    "display(predictions_df.head())\n",
    "display(predictions_df.tail())"
   ]
  },
  {
   "cell_type": "markdown",
   "metadata": {},
   "source": [
    "Imoportant to Note: Current SVC model results in imbalanced dataset. Seems quite buy-biased. May need to resample sell signals for later optimization."
   ]
  },
  {
   "cell_type": "markdown",
   "metadata": {},
   "source": [
    "### Step 7: Create a cumulative return plot that shows the actual returns vs. the strategy returns. Save a PNG image of this plot. This will serve as a baseline against which to compare the effects of tuning the trading algorithm."
   ]
  },
  {
   "cell_type": "code",
   "execution_count": 97,
   "metadata": {},
   "outputs": [
    {
     "data": {},
     "metadata": {},
     "output_type": "display_data"
    },
    {
     "data": {
      "application/vnd.holoviews_exec.v0+json": "",
      "text/html": [
       "<div id='2926'>\n",
       "\n",
       "\n",
       "\n",
       "\n",
       "\n",
       "  <div class=\"bk-root\" id=\"1bc1bd19-4ca3-4e75-82f5-f5f6f2f52a6f\" data-root-id=\"2926\"></div>\n",
       "</div>\n",
       "<script type=\"application/javascript\">(function(root) {\n",
       "  function embed_document(root) {\n",
       "    var docs_json = {\"2cfcbc25-c76a-42fe-bed0-1d2a38c4d736\":{\"defs\":[{\"extends\":null,\"module\":null,\"name\":\"ReactiveHTML1\",\"overrides\":[],\"properties\":[]},{\"extends\":null,\"module\":null,\"name\":\"FlexBox1\",\"overrides\":[],\"properties\":[{\"default\":\"flex-start\",\"kind\":null,\"name\":\"align_content\"},{\"default\":\"flex-start\",\"kind\":null,\"name\":\"align_items\"},{\"default\":\"row\",\"kind\":null,\"name\":\"flex_direction\"},{\"default\":\"wrap\",\"kind\":null,\"name\":\"flex_wrap\"},{\"default\":\"flex-start\",\"kind\":null,\"name\":\"justify_content\"}]},{\"extends\":null,\"module\":null,\"name\":\"TemplateActions1\",\"overrides\":[],\"properties\":[{\"default\":0,\"kind\":null,\"name\":\"open_modal\"},{\"default\":0,\"kind\":null,\"name\":\"close_modal\"}]},{\"extends\":null,\"module\":null,\"name\":\"MaterialTemplateActions1\",\"overrides\":[],\"properties\":[{\"default\":0,\"kind\":null,\"name\":\"open_modal\"},{\"default\":0,\"kind\":null,\"name\":\"close_modal\"}]}],\"roots\":{\"references\":[{\"attributes\":{\"end\":1.5123376623376577,\"reset_end\":1.5123376623376577,\"reset_start\":0.7668831168831162,\"start\":0.7668831168831162,\"tags\":[[[\"value\",\"value\",null]]]},\"id\":\"2929\",\"type\":\"Range1d\"},{\"attributes\":{\"months\":[0,2,4,6,8,10]},\"id\":\"2991\",\"type\":\"MonthsTicker\"},{\"attributes\":{\"margin\":[5,5,5,5],\"name\":\"HSpacer03433\",\"sizing_mode\":\"stretch_width\"},\"id\":\"2927\",\"type\":\"Spacer\"},{\"attributes\":{\"months\":[0,1,2,3,4,5,6,7,8,9,10,11]},\"id\":\"2990\",\"type\":\"MonthsTicker\"},{\"attributes\":{\"months\":[0,6]},\"id\":\"2993\",\"type\":\"MonthsTicker\"},{\"attributes\":{\"bottom_units\":\"screen\",\"fill_alpha\":0.5,\"fill_color\":\"lightgrey\",\"left_units\":\"screen\",\"level\":\"overlay\",\"line_alpha\":1.0,\"line_color\":\"black\",\"line_dash\":[4,4],\"line_width\":2,\"right_units\":\"screen\",\"syncable\":false,\"top_units\":\"screen\"},\"id\":\"2954\",\"type\":\"BoxAnnotation\"},{\"attributes\":{\"months\":[0,4,8]},\"id\":\"2992\",\"type\":\"MonthsTicker\"},{\"attributes\":{\"callback\":null,\"formatters\":{\"@{date}\":\"datetime\"},\"renderers\":[{\"id\":\"2974\"},{\"id\":\"3007\"}],\"tags\":[\"hv_created\"],\"tooltips\":[[\"Variable\",\"@{Variable}\"],[\"date\",\"@{date}{%F %T}\"],[\"value\",\"@{value}\"]]},\"id\":\"2930\",\"type\":\"HoverTool\"},{\"attributes\":{\"days\":[1,15]},\"id\":\"2989\",\"type\":\"DaysTicker\"},{\"attributes\":{\"label\":{\"value\":\"Strategy Returns\"},\"renderers\":[{\"id\":\"3007\"}]},\"id\":\"3033\",\"type\":\"LegendItem\"},{\"attributes\":{\"days\":[1,8,15,22]},\"id\":\"2988\",\"type\":\"DaysTicker\"},{\"attributes\":{\"data_source\":{\"id\":\"3001\"},\"glyph\":{\"id\":\"3004\"},\"hover_glyph\":null,\"muted_glyph\":{\"id\":\"3006\"},\"nonselection_glyph\":{\"id\":\"3005\"},\"selection_glyph\":{\"id\":\"3034\"},\"view\":{\"id\":\"3008\"}},\"id\":\"3007\",\"type\":\"GlyphRenderer\"},{\"attributes\":{},\"id\":\"2994\",\"type\":\"YearsTicker\"},{\"attributes\":{},\"id\":\"2963\",\"type\":\"AllLabels\"},{\"attributes\":{\"days\":[1,4,7,10,13,16,19,22,25,28]},\"id\":\"2987\",\"type\":\"DaysTicker\"},{\"attributes\":{},\"id\":\"3002\",\"type\":\"Selection\"},{\"attributes\":{\"line_alpha\":0.2,\"line_color\":\"#fc4f30\",\"line_width\":2,\"x\":{\"field\":\"date\"},\"y\":{\"field\":\"value\"}},\"id\":\"3006\",\"type\":\"Line\"},{\"attributes\":{\"label\":{\"value\":\"Actual Returns\"},\"renderers\":[{\"id\":\"2974\"}]},\"id\":\"2999\",\"type\":\"LegendItem\"},{\"attributes\":{},\"id\":\"2995\",\"type\":\"UnionRenderers\"},{\"attributes\":{\"margin\":[5,5,5,5],\"name\":\"HSpacer03434\",\"sizing_mode\":\"stretch_width\"},\"id\":\"3251\",\"type\":\"Spacer\"},{\"attributes\":{\"line_color\":\"#fc4f30\",\"line_width\":2,\"x\":{\"field\":\"date\"},\"y\":{\"field\":\"value\"}},\"id\":\"3004\",\"type\":\"Line\"},{\"attributes\":{\"days\":[1,2,3,4,5,6,7,8,9,10,11,12,13,14,15,16,17,18,19,20,21,22,23,24,25,26,27,28,29,30,31]},\"id\":\"2986\",\"type\":\"DaysTicker\"},{\"attributes\":{},\"id\":\"2969\",\"type\":\"Selection\"},{\"attributes\":{\"line_alpha\":0.1,\"line_color\":\"#fc4f30\",\"line_width\":2,\"x\":{\"field\":\"date\"},\"y\":{\"field\":\"value\"}},\"id\":\"3005\",\"type\":\"Line\"},{\"attributes\":{},\"id\":\"2966\",\"type\":\"AllLabels\"},{\"attributes\":{\"click_policy\":\"mute\",\"items\":[{\"id\":\"2999\"},{\"id\":\"3033\"}],\"location\":[0,0],\"title\":\"Variable\"},\"id\":\"2998\",\"type\":\"Legend\"},{\"attributes\":{\"text\":\"Baseline Model Performance\",\"text_color\":\"black\",\"text_font_size\":\"12pt\"},\"id\":\"2933\",\"type\":\"Title\"},{\"attributes\":{},\"id\":\"3030\",\"type\":\"UnionRenderers\"},{\"attributes\":{},\"id\":\"2962\",\"type\":\"DatetimeTickFormatter\"},{\"attributes\":{\"base\":60,\"mantissas\":[1,2,5,10,15,20,30],\"max_interval\":1800000.0,\"min_interval\":1000.0,\"num_minor_ticks\":0},\"id\":\"2984\",\"type\":\"AdaptiveTicker\"},{\"attributes\":{},\"id\":\"2939\",\"type\":\"LinearScale\"},{\"attributes\":{\"source\":{\"id\":\"3001\"}},\"id\":\"3008\",\"type\":\"CDSView\"},{\"attributes\":{\"base\":24,\"mantissas\":[1,2,4,6,8,12],\"max_interval\":43200000.0,\"min_interval\":3600000.0,\"num_minor_ticks\":0},\"id\":\"2985\",\"type\":\"AdaptiveTicker\"},{\"attributes\":{\"line_color\":\"#30a2da\",\"line_width\":2,\"x\":{\"field\":\"date\"},\"y\":{\"field\":\"value\"}},\"id\":\"3000\",\"type\":\"Line\"},{\"attributes\":{\"axis_label\":\"date\",\"formatter\":{\"id\":\"2962\"},\"major_label_policy\":{\"id\":\"2963\"},\"ticker\":{\"id\":\"2942\"}},\"id\":\"2941\",\"type\":\"DatetimeAxis\"},{\"attributes\":{\"children\":[{\"id\":\"2927\"},{\"id\":\"2932\"},{\"id\":\"3251\"}],\"margin\":[0,0,0,0],\"name\":\"Row03429\",\"tags\":[\"embedded\"]},\"id\":\"2926\",\"type\":\"Row\"},{\"attributes\":{},\"id\":\"2953\",\"type\":\"ResetTool\"},{\"attributes\":{\"mantissas\":[1,2,5],\"max_interval\":500.0,\"num_minor_ticks\":0},\"id\":\"2983\",\"type\":\"AdaptiveTicker\"},{\"attributes\":{\"num_minor_ticks\":5,\"tickers\":[{\"id\":\"2983\"},{\"id\":\"2984\"},{\"id\":\"2985\"},{\"id\":\"2986\"},{\"id\":\"2987\"},{\"id\":\"2988\"},{\"id\":\"2989\"},{\"id\":\"2990\"},{\"id\":\"2991\"},{\"id\":\"2992\"},{\"id\":\"2993\"},{\"id\":\"2994\"}]},\"id\":\"2942\",\"type\":\"DatetimeTicker\"},{\"attributes\":{\"data\":{\"Variable\":[\"Actual Returns\",\"Actual Returns\",\"Actual Returns\",\"Actual Returns\",\"Actual Returns\",\"Actual Returns\",\"Actual Returns\",\"Actual Returns\",\"Actual Returns\",\"Actual Returns\",\"Actual Returns\",\"Actual Returns\",\"Actual Returns\",\"Actual Returns\",\"Actual Returns\",\"Actual Returns\",\"Actual Returns\",\"Actual Returns\",\"Actual Returns\",\"Actual Returns\",\"Actual Returns\",\"Actual Returns\",\"Actual Returns\",\"Actual Returns\",\"Actual Returns\",\"Actual Returns\",\"Actual Returns\",\"Actual Returns\",\"Actual Returns\",\"Actual Returns\",\"Actual Returns\",\"Actual Returns\",\"Actual Returns\",\"Actual Returns\",\"Actual Returns\",\"Actual Returns\",\"Actual Returns\",\"Actual Returns\",\"Actual Returns\",\"Actual Returns\",\"Actual Returns\",\"Actual Returns\",\"Actual Returns\",\"Actual Returns\",\"Actual Returns\",\"Actual Returns\",\"Actual Returns\",\"Actual Returns\",\"Actual Returns\",\"Actual Returns\",\"Actual Returns\",\"Actual Returns\",\"Actual Returns\",\"Actual Returns\",\"Actual Returns\",\"Actual Returns\",\"Actual Returns\",\"Actual Returns\",\"Actual Returns\",\"Actual Returns\",\"Actual Returns\",\"Actual Returns\",\"Actual Returns\",\"Actual Returns\",\"Actual Returns\",\"Actual Returns\",\"Actual Returns\",\"Actual Returns\",\"Actual Returns\",\"Actual Returns\",\"Actual Returns\",\"Actual Returns\",\"Actual Returns\",\"Actual Returns\",\"Actual Returns\",\"Actual Returns\",\"Actual Returns\",\"Actual Returns\",\"Actual Returns\",\"Actual Returns\",\"Actual Returns\",\"Actual Returns\",\"Actual Returns\",\"Actual Returns\",\"Actual Returns\",\"Actual Returns\",\"Actual Returns\",\"Actual Returns\",\"Actual Returns\",\"Actual Returns\",\"Actual Returns\",\"Actual Returns\",\"Actual Returns\",\"Actual Returns\",\"Actual Returns\",\"Actual Returns\",\"Actual Returns\",\"Actual Returns\",\"Actual Returns\",\"Actual Returns\",\"Actual Returns\",\"Actual Returns\",\"Actual Returns\",\"Actual Returns\",\"Actual Returns\",\"Actual Returns\",\"Actual Returns\",\"Actual Returns\",\"Actual Returns\",\"Actual Returns\",\"Actual Returns\",\"Actual Returns\",\"Actual Returns\",\"Actual Returns\",\"Actual Returns\",\"Actual Returns\",\"Actual Returns\",\"Actual Returns\",\"Actual Returns\",\"Actual Returns\",\"Actual Returns\",\"Actual Returns\",\"Actual Returns\",\"Actual Returns\",\"Actual Returns\",\"Actual Returns\",\"Actual Returns\",\"Actual Returns\",\"Actual Returns\",\"Actual Returns\",\"Actual Returns\",\"Actual Returns\",\"Actual Returns\",\"Actual Returns\",\"Actual Returns\",\"Actual Returns\",\"Actual Returns\",\"Actual Returns\",\"Actual Returns\",\"Actual Returns\",\"Actual Returns\",\"Actual Returns\",\"Actual Returns\",\"Actual Returns\",\"Actual Returns\",\"Actual Returns\",\"Actual Returns\",\"Actual Returns\",\"Actual Returns\",\"Actual Returns\",\"Actual Returns\",\"Actual Returns\",\"Actual Returns\",\"Actual Returns\",\"Actual Returns\",\"Actual Returns\",\"Actual Returns\",\"Actual Returns\",\"Actual Returns\",\"Actual Returns\",\"Actual Returns\",\"Actual Returns\",\"Actual Returns\",\"Actual Returns\",\"Actual Returns\",\"Actual Returns\",\"Actual Returns\",\"Actual Returns\",\"Actual Returns\",\"Actual Returns\",\"Actual Returns\",\"Actual Returns\",\"Actual Returns\",\"Actual Returns\",\"Actual Returns\",\"Actual Returns\",\"Actual Returns\",\"Actual Returns\",\"Actual Returns\",\"Actual Returns\",\"Actual Returns\",\"Actual Returns\",\"Actual Returns\",\"Actual Returns\",\"Actual Returns\",\"Actual Returns\",\"Actual Returns\",\"Actual Returns\",\"Actual Returns\",\"Actual Returns\",\"Actual Returns\",\"Actual Returns\",\"Actual Returns\",\"Actual Returns\",\"Actual Returns\",\"Actual Returns\",\"Actual Returns\",\"Actual Returns\",\"Actual Returns\",\"Actual Returns\",\"Actual Returns\",\"Actual Returns\",\"Actual Returns\",\"Actual Returns\",\"Actual Returns\",\"Actual Returns\",\"Actual Returns\",\"Actual Returns\",\"Actual Returns\",\"Actual Returns\",\"Actual Returns\",\"Actual Returns\",\"Actual Returns\",\"Actual Returns\",\"Actual Returns\",\"Actual Returns\",\"Actual Returns\",\"Actual Returns\",\"Actual Returns\",\"Actual Returns\",\"Actual Returns\",\"Actual Returns\",\"Actual Returns\",\"Actual Returns\",\"Actual Returns\",\"Actual Returns\",\"Actual Returns\",\"Actual Returns\",\"Actual Returns\",\"Actual Returns\",\"Actual Returns\",\"Actual Returns\",\"Actual Returns\",\"Actual Returns\",\"Actual Returns\",\"Actual Returns\",\"Actual Returns\",\"Actual Returns\",\"Actual Returns\",\"Actual Returns\",\"Actual Returns\",\"Actual Returns\",\"Actual Returns\",\"Actual Returns\",\"Actual Returns\",\"Actual Returns\",\"Actual Returns\",\"Actual Returns\",\"Actual Returns\",\"Actual Returns\",\"Actual Returns\",\"Actual Returns\",\"Actual Returns\",\"Actual Returns\",\"Actual Returns\",\"Actual Returns\",\"Actual Returns\",\"Actual Returns\",\"Actual Returns\",\"Actual Returns\",\"Actual Returns\",\"Actual Returns\",\"Actual Returns\",\"Actual Returns\",\"Actual Returns\",\"Actual Returns\",\"Actual Returns\",\"Actual Returns\",\"Actual Returns\",\"Actual Returns\",\"Actual Returns\",\"Actual Returns\",\"Actual Returns\",\"Actual Returns\",\"Actual Returns\",\"Actual Returns\",\"Actual Returns\",\"Actual Returns\",\"Actual Returns\",\"Actual Returns\",\"Actual Returns\",\"Actual Returns\",\"Actual Returns\",\"Actual Returns\",\"Actual Returns\",\"Actual Returns\",\"Actual Returns\",\"Actual Returns\",\"Actual Returns\",\"Actual Returns\",\"Actual Returns\",\"Actual Returns\",\"Actual Returns\",\"Actual Returns\",\"Actual Returns\",\"Actual Returns\",\"Actual Returns\",\"Actual Returns\",\"Actual Returns\",\"Actual Returns\",\"Actual Returns\",\"Actual Returns\",\"Actual Returns\",\"Actual Returns\",\"Actual Returns\",\"Actual Returns\",\"Actual Returns\",\"Actual Returns\",\"Actual Returns\",\"Actual Returns\",\"Actual Returns\",\"Actual Returns\",\"Actual Returns\",\"Actual Returns\",\"Actual Returns\",\"Actual Returns\",\"Actual Returns\",\"Actual Returns\",\"Actual Returns\",\"Actual Returns\",\"Actual Returns\",\"Actual Returns\",\"Actual Returns\",\"Actual Returns\",\"Actual Returns\",\"Actual Returns\",\"Actual Returns\",\"Actual Returns\",\"Actual Returns\",\"Actual Returns\",\"Actual Returns\",\"Actual Returns\",\"Actual Returns\",\"Actual Returns\",\"Actual Returns\",\"Actual Returns\",\"Actual Returns\",\"Actual Returns\",\"Actual Returns\",\"Actual Returns\",\"Actual Returns\",\"Actual Returns\",\"Actual Returns\",\"Actual Returns\",\"Actual Returns\",\"Actual Returns\",\"Actual Returns\",\"Actual Returns\",\"Actual Returns\",\"Actual Returns\",\"Actual Returns\",\"Actual Returns\",\"Actual Returns\",\"Actual Returns\",\"Actual Returns\",\"Actual Returns\",\"Actual Returns\",\"Actual Returns\",\"Actual Returns\",\"Actual Returns\",\"Actual Returns\",\"Actual Returns\",\"Actual Returns\",\"Actual Returns\",\"Actual Returns\",\"Actual Returns\",\"Actual Returns\",\"Actual Returns\",\"Actual Returns\",\"Actual Returns\",\"Actual Returns\",\"Actual Returns\",\"Actual Returns\",\"Actual Returns\",\"Actual Returns\",\"Actual Returns\",\"Actual Returns\",\"Actual Returns\",\"Actual Returns\",\"Actual Returns\",\"Actual Returns\",\"Actual Returns\",\"Actual Returns\",\"Actual Returns\",\"Actual Returns\",\"Actual Returns\",\"Actual Returns\",\"Actual Returns\",\"Actual Returns\",\"Actual Returns\",\"Actual Returns\",\"Actual Returns\",\"Actual Returns\",\"Actual Returns\",\"Actual Returns\",\"Actual Returns\",\"Actual Returns\",\"Actual Returns\",\"Actual Returns\",\"Actual Returns\",\"Actual Returns\",\"Actual Returns\",\"Actual Returns\",\"Actual Returns\",\"Actual Returns\",\"Actual Returns\",\"Actual Returns\",\"Actual Returns\",\"Actual Returns\",\"Actual Returns\",\"Actual Returns\",\"Actual Returns\",\"Actual Returns\",\"Actual Returns\",\"Actual Returns\",\"Actual Returns\",\"Actual Returns\",\"Actual Returns\",\"Actual Returns\",\"Actual Returns\",\"Actual Returns\",\"Actual Returns\",\"Actual Returns\",\"Actual Returns\",\"Actual Returns\",\"Actual Returns\",\"Actual Returns\",\"Actual Returns\",\"Actual Returns\",\"Actual Returns\",\"Actual Returns\",\"Actual Returns\",\"Actual Returns\",\"Actual Returns\",\"Actual Returns\",\"Actual Returns\",\"Actual Returns\",\"Actual Returns\",\"Actual Returns\",\"Actual Returns\",\"Actual Returns\",\"Actual Returns\",\"Actual Returns\",\"Actual Returns\",\"Actual Returns\",\"Actual Returns\",\"Actual Returns\",\"Actual Returns\",\"Actual Returns\",\"Actual Returns\",\"Actual Returns\",\"Actual Returns\",\"Actual Returns\",\"Actual Returns\",\"Actual Returns\",\"Actual Returns\",\"Actual Returns\",\"Actual Returns\",\"Actual Returns\",\"Actual Returns\",\"Actual Returns\",\"Actual Returns\",\"Actual Returns\",\"Actual Returns\",\"Actual Returns\",\"Actual Returns\",\"Actual Returns\",\"Actual Returns\",\"Actual Returns\",\"Actual Returns\",\"Actual Returns\",\"Actual Returns\",\"Actual Returns\",\"Actual Returns\",\"Actual Returns\",\"Actual Returns\",\"Actual Returns\",\"Actual Returns\",\"Actual Returns\",\"Actual Returns\",\"Actual Returns\",\"Actual Returns\",\"Actual Returns\",\"Actual Returns\",\"Actual Returns\",\"Actual Returns\",\"Actual Returns\",\"Actual Returns\",\"Actual Returns\",\"Actual Returns\",\"Actual Returns\",\"Actual Returns\",\"Actual Returns\",\"Actual Returns\",\"Actual Returns\",\"Actual Returns\",\"Actual Returns\",\"Actual Returns\",\"Actual Returns\",\"Actual Returns\",\"Actual Returns\",\"Actual Returns\",\"Actual Returns\",\"Actual Returns\",\"Actual Returns\",\"Actual Returns\",\"Actual Returns\",\"Actual Returns\",\"Actual Returns\",\"Actual Returns\",\"Actual Returns\",\"Actual Returns\",\"Actual Returns\",\"Actual Returns\",\"Actual Returns\",\"Actual Returns\",\"Actual Returns\",\"Actual Returns\",\"Actual Returns\",\"Actual Returns\",\"Actual Returns\",\"Actual Returns\",\"Actual Returns\",\"Actual Returns\",\"Actual Returns\",\"Actual Returns\",\"Actual Returns\",\"Actual Returns\",\"Actual Returns\",\"Actual Returns\",\"Actual Returns\",\"Actual Returns\",\"Actual Returns\",\"Actual Returns\",\"Actual Returns\",\"Actual Returns\",\"Actual Returns\",\"Actual Returns\",\"Actual Returns\",\"Actual Returns\",\"Actual Returns\",\"Actual Returns\",\"Actual Returns\",\"Actual Returns\",\"Actual Returns\",\"Actual Returns\",\"Actual Returns\",\"Actual Returns\",\"Actual Returns\",\"Actual Returns\",\"Actual Returns\",\"Actual Returns\",\"Actual Returns\",\"Actual Returns\",\"Actual Returns\",\"Actual Returns\",\"Actual Returns\",\"Actual Returns\",\"Actual Returns\",\"Actual Returns\",\"Actual Returns\",\"Actual Returns\",\"Actual Returns\",\"Actual Returns\",\"Actual Returns\",\"Actual Returns\",\"Actual Returns\",\"Actual Returns\",\"Actual Returns\",\"Actual Returns\",\"Actual Returns\",\"Actual Returns\",\"Actual Returns\",\"Actual Returns\",\"Actual Returns\",\"Actual Returns\",\"Actual Returns\",\"Actual Returns\",\"Actual Returns\",\"Actual Returns\",\"Actual Returns\",\"Actual Returns\",\"Actual Returns\",\"Actual Returns\",\"Actual Returns\",\"Actual Returns\",\"Actual Returns\",\"Actual Returns\",\"Actual Returns\",\"Actual Returns\",\"Actual Returns\",\"Actual Returns\",\"Actual Returns\",\"Actual Returns\",\"Actual Returns\",\"Actual Returns\",\"Actual Returns\",\"Actual Returns\",\"Actual Returns\",\"Actual Returns\",\"Actual Returns\",\"Actual Returns\",\"Actual Returns\",\"Actual Returns\",\"Actual Returns\",\"Actual Returns\",\"Actual Returns\",\"Actual Returns\",\"Actual Returns\",\"Actual Returns\",\"Actual Returns\",\"Actual Returns\",\"Actual Returns\",\"Actual Returns\",\"Actual Returns\",\"Actual Returns\",\"Actual Returns\",\"Actual Returns\",\"Actual Returns\",\"Actual Returns\",\"Actual Returns\",\"Actual Returns\",\"Actual Returns\",\"Actual Returns\",\"Actual Returns\",\"Actual Returns\",\"Actual Returns\",\"Actual Returns\",\"Actual Returns\",\"Actual Returns\",\"Actual Returns\",\"Actual Returns\",\"Actual Returns\",\"Actual Returns\",\"Actual Returns\",\"Actual Returns\",\"Actual Returns\",\"Actual Returns\",\"Actual Returns\",\"Actual Returns\",\"Actual Returns\",\"Actual Returns\",\"Actual Returns\",\"Actual Returns\",\"Actual Returns\",\"Actual Returns\",\"Actual Returns\",\"Actual Returns\",\"Actual Returns\",\"Actual Returns\",\"Actual Returns\",\"Actual Returns\",\"Actual Returns\",\"Actual Returns\",\"Actual Returns\",\"Actual Returns\",\"Actual Returns\",\"Actual Returns\",\"Actual Returns\",\"Actual Returns\",\"Actual Returns\",\"Actual Returns\",\"Actual Returns\",\"Actual Returns\",\"Actual Returns\",\"Actual Returns\",\"Actual Returns\",\"Actual Returns\",\"Actual Returns\",\"Actual Returns\",\"Actual Returns\",\"Actual Returns\",\"Actual Returns\",\"Actual Returns\",\"Actual Returns\",\"Actual Returns\",\"Actual Returns\",\"Actual Returns\",\"Actual Returns\",\"Actual Returns\",\"Actual Returns\",\"Actual Returns\",\"Actual Returns\",\"Actual Returns\",\"Actual Returns\",\"Actual Returns\",\"Actual Returns\",\"Actual Returns\",\"Actual Returns\",\"Actual Returns\",\"Actual Returns\",\"Actual Returns\",\"Actual Returns\",\"Actual Returns\",\"Actual Returns\",\"Actual Returns\",\"Actual Returns\",\"Actual Returns\",\"Actual Returns\",\"Actual Returns\",\"Actual Returns\",\"Actual Returns\",\"Actual Returns\",\"Actual Returns\",\"Actual Returns\",\"Actual Returns\",\"Actual Returns\",\"Actual Returns\",\"Actual Returns\",\"Actual Returns\",\"Actual Returns\",\"Actual Returns\",\"Actual Returns\",\"Actual Returns\",\"Actual Returns\",\"Actual Returns\",\"Actual Returns\",\"Actual Returns\",\"Actual Returns\",\"Actual Returns\",\"Actual Returns\",\"Actual Returns\",\"Actual Returns\",\"Actual Returns\",\"Actual Returns\",\"Actual Returns\",\"Actual Returns\",\"Actual Returns\",\"Actual Returns\",\"Actual Returns\",\"Actual Returns\",\"Actual Returns\",\"Actual Returns\",\"Actual Returns\",\"Actual Returns\",\"Actual Returns\",\"Actual Returns\",\"Actual Returns\",\"Actual Returns\",\"Actual Returns\",\"Actual Returns\",\"Actual Returns\",\"Actual Returns\",\"Actual Returns\",\"Actual Returns\",\"Actual Returns\",\"Actual Returns\",\"Actual Returns\",\"Actual Returns\",\"Actual Returns\",\"Actual Returns\",\"Actual Returns\",\"Actual Returns\",\"Actual Returns\",\"Actual Returns\",\"Actual Returns\",\"Actual Returns\",\"Actual Returns\",\"Actual Returns\",\"Actual Returns\",\"Actual Returns\",\"Actual Returns\",\"Actual Returns\",\"Actual Returns\",\"Actual Returns\",\"Actual Returns\",\"Actual Returns\",\"Actual Returns\",\"Actual Returns\",\"Actual Returns\",\"Actual Returns\",\"Actual Returns\",\"Actual Returns\",\"Actual Returns\",\"Actual Returns\",\"Actual Returns\",\"Actual Returns\",\"Actual Returns\",\"Actual Returns\",\"Actual Returns\",\"Actual Returns\",\"Actual Returns\",\"Actual Returns\",\"Actual Returns\",\"Actual Returns\",\"Actual Returns\",\"Actual Returns\",\"Actual Returns\",\"Actual Returns\",\"Actual Returns\",\"Actual Returns\",\"Actual Returns\",\"Actual Returns\",\"Actual Returns\",\"Actual Returns\",\"Actual Returns\",\"Actual Returns\",\"Actual Returns\",\"Actual Returns\",\"Actual Returns\",\"Actual Returns\",\"Actual Returns\",\"Actual Returns\",\"Actual Returns\",\"Actual Returns\",\"Actual Returns\",\"Actual Returns\",\"Actual Returns\",\"Actual Returns\",\"Actual Returns\",\"Actual Returns\",\"Actual Returns\",\"Actual Returns\",\"Actual Returns\",\"Actual Returns\",\"Actual Returns\",\"Actual Returns\",\"Actual Returns\",\"Actual Returns\",\"Actual Returns\",\"Actual Returns\",\"Actual Returns\",\"Actual Returns\",\"Actual Returns\",\"Actual Returns\",\"Actual Returns\",\"Actual Returns\",\"Actual Returns\",\"Actual Returns\",\"Actual Returns\",\"Actual Returns\",\"Actual Returns\",\"Actual Returns\",\"Actual Returns\",\"Actual Returns\",\"Actual Returns\",\"Actual Returns\",\"Actual Returns\",\"Actual Returns\",\"Actual Returns\",\"Actual Returns\",\"Actual Returns\",\"Actual Returns\",\"Actual Returns\",\"Actual Returns\",\"Actual Returns\",\"Actual Returns\",\"Actual Returns\",\"Actual Returns\",\"Actual Returns\",\"Actual Returns\",\"Actual Returns\",\"Actual Returns\",\"Actual Returns\",\"Actual Returns\",\"Actual Returns\",\"Actual Returns\",\"Actual Returns\",\"Actual Returns\",\"Actual Returns\",\"Actual Returns\",\"Actual Returns\",\"Actual Returns\",\"Actual Returns\",\"Actual Returns\",\"Actual Returns\",\"Actual Returns\",\"Actual Returns\",\"Actual Returns\",\"Actual Returns\",\"Actual Returns\",\"Actual Returns\",\"Actual Returns\",\"Actual Returns\",\"Actual Returns\",\"Actual Returns\",\"Actual Returns\",\"Actual Returns\",\"Actual Returns\",\"Actual Returns\",\"Actual Returns\",\"Actual Returns\",\"Actual Returns\",\"Actual Returns\",\"Actual Returns\",\"Actual Returns\",\"Actual Returns\",\"Actual Returns\",\"Actual Returns\",\"Actual Returns\",\"Actual Returns\",\"Actual Returns\",\"Actual Returns\",\"Actual Returns\",\"Actual Returns\",\"Actual Returns\",\"Actual Returns\",\"Actual Returns\",\"Actual Returns\",\"Actual Returns\",\"Actual Returns\",\"Actual Returns\",\"Actual Returns\",\"Actual Returns\",\"Actual Returns\",\"Actual Returns\",\"Actual Returns\",\"Actual Returns\",\"Actual Returns\",\"Actual Returns\",\"Actual Returns\",\"Actual Returns\",\"Actual Returns\",\"Actual Returns\",\"Actual Returns\",\"Actual Returns\",\"Actual Returns\",\"Actual Returns\",\"Actual Returns\",\"Actual Returns\",\"Actual Returns\",\"Actual Returns\",\"Actual Returns\",\"Actual Returns\",\"Actual Returns\",\"Actual Returns\",\"Actual Returns\",\"Actual Returns\",\"Actual Returns\",\"Actual Returns\",\"Actual Returns\",\"Actual Returns\",\"Actual Returns\",\"Actual Returns\",\"Actual Returns\",\"Actual Returns\",\"Actual Returns\",\"Actual Returns\",\"Actual Returns\",\"Actual Returns\",\"Actual Returns\",\"Actual Returns\",\"Actual Returns\",\"Actual Returns\",\"Actual Returns\",\"Actual Returns\",\"Actual Returns\",\"Actual Returns\",\"Actual Returns\",\"Actual Returns\",\"Actual Returns\",\"Actual Returns\",\"Actual Returns\",\"Actual Returns\",\"Actual Returns\",\"Actual Returns\",\"Actual Returns\",\"Actual Returns\",\"Actual Returns\",\"Actual Returns\",\"Actual Returns\",\"Actual Returns\",\"Actual Returns\",\"Actual Returns\",\"Actual Returns\",\"Actual Returns\",\"Actual Returns\",\"Actual Returns\",\"Actual Returns\",\"Actual Returns\",\"Actual Returns\",\"Actual Returns\",\"Actual Returns\",\"Actual Returns\",\"Actual Returns\",\"Actual Returns\",\"Actual Returns\",\"Actual Returns\",\"Actual Returns\",\"Actual Returns\",\"Actual Returns\",\"Actual Returns\",\"Actual Returns\",\"Actual Returns\",\"Actual Returns\",\"Actual Returns\",\"Actual Returns\",\"Actual Returns\",\"Actual Returns\",\"Actual Returns\",\"Actual Returns\",\"Actual Returns\",\"Actual Returns\",\"Actual Returns\",\"Actual Returns\",\"Actual Returns\",\"Actual Returns\",\"Actual Returns\",\"Actual Returns\",\"Actual Returns\",\"Actual Returns\",\"Actual Returns\",\"Actual Returns\",\"Actual Returns\",\"Actual Returns\",\"Actual Returns\",\"Actual Returns\",\"Actual Returns\",\"Actual Returns\",\"Actual Returns\",\"Actual Returns\",\"Actual Returns\",\"Actual Returns\",\"Actual Returns\",\"Actual Returns\",\"Actual Returns\",\"Actual Returns\",\"Actual Returns\",\"Actual Returns\",\"Actual Returns\",\"Actual Returns\",\"Actual Returns\",\"Actual Returns\",\"Actual Returns\",\"Actual Returns\",\"Actual Returns\",\"Actual Returns\",\"Actual Returns\",\"Actual Returns\",\"Actual Returns\",\"Actual Returns\",\"Actual Returns\",\"Actual Returns\",\"Actual Returns\",\"Actual Returns\",\"Actual Returns\",\"Actual Returns\",\"Actual Returns\",\"Actual Returns\",\"Actual Returns\",\"Actual Returns\",\"Actual Returns\",\"Actual Returns\",\"Actual Returns\",\"Actual Returns\",\"Actual Returns\",\"Actual Returns\",\"Actual Returns\",\"Actual Returns\",\"Actual Returns\",\"Actual Returns\",\"Actual Returns\",\"Actual Returns\",\"Actual Returns\",\"Actual Returns\",\"Actual Returns\",\"Actual Returns\",\"Actual Returns\",\"Actual Returns\",\"Actual Returns\",\"Actual Returns\",\"Actual Returns\",\"Actual Returns\",\"Actual Returns\",\"Actual Returns\",\"Actual Returns\",\"Actual Returns\",\"Actual Returns\",\"Actual Returns\",\"Actual Returns\",\"Actual Returns\",\"Actual Returns\",\"Actual Returns\",\"Actual Returns\",\"Actual Returns\",\"Actual Returns\",\"Actual Returns\",\"Actual Returns\",\"Actual Returns\",\"Actual Returns\",\"Actual Returns\",\"Actual Returns\",\"Actual Returns\",\"Actual Returns\",\"Actual Returns\",\"Actual Returns\",\"Actual Returns\",\"Actual Returns\",\"Actual Returns\",\"Actual Returns\"],\"date\":{\"__ndarray__\":\"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\",\"dtype\":\"float64\",\"order\":\"little\",\"shape\":[1090]},\"value\":{\"__ndarray__\":\"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\",\"dtype\":\"float64\",\"order\":\"little\",\"shape\":[1090]}},\"selected\":{\"id\":\"2969\"},\"selection_policy\":{\"id\":\"2995\"}},\"id\":\"2968\",\"type\":\"ColumnDataSource\"},{\"attributes\":{\"line_alpha\":0.1,\"line_color\":\"#30a2da\",\"line_width\":2,\"x\":{\"field\":\"date\"},\"y\":{\"field\":\"value\"}},\"id\":\"2972\",\"type\":\"Line\"},{\"attributes\":{},\"id\":\"2946\",\"type\":\"BasicTicker\"},{\"attributes\":{\"data_source\":{\"id\":\"2968\"},\"glyph\":{\"id\":\"2971\"},\"hover_glyph\":null,\"muted_glyph\":{\"id\":\"2973\"},\"nonselection_glyph\":{\"id\":\"2972\"},\"selection_glyph\":{\"id\":\"3000\"},\"view\":{\"id\":\"2975\"}},\"id\":\"2974\",\"type\":\"GlyphRenderer\"},{\"attributes\":{\"line_alpha\":0.2,\"line_color\":\"#30a2da\",\"line_width\":2,\"x\":{\"field\":\"date\"},\"y\":{\"field\":\"value\"}},\"id\":\"2973\",\"type\":\"Line\"},{\"attributes\":{},\"id\":\"2937\",\"type\":\"LinearScale\"},{\"attributes\":{\"overlay\":{\"id\":\"2954\"}},\"id\":\"2952\",\"type\":\"BoxZoomTool\"},{\"attributes\":{\"axis\":{\"id\":\"2941\"},\"grid_line_color\":null,\"ticker\":null},\"id\":\"2944\",\"type\":\"Grid\"},{\"attributes\":{\"source\":{\"id\":\"2968\"}},\"id\":\"2975\",\"type\":\"CDSView\"},{\"attributes\":{\"line_color\":\"#fc4f30\",\"line_width\":2,\"x\":{\"field\":\"date\"},\"y\":{\"field\":\"value\"}},\"id\":\"3034\",\"type\":\"Line\"},{\"attributes\":{\"data\":{\"Variable\":[\"Strategy Returns\",\"Strategy Returns\",\"Strategy Returns\",\"Strategy Returns\",\"Strategy Returns\",\"Strategy Returns\",\"Strategy Returns\",\"Strategy Returns\",\"Strategy Returns\",\"Strategy Returns\",\"Strategy Returns\",\"Strategy Returns\",\"Strategy Returns\",\"Strategy Returns\",\"Strategy Returns\",\"Strategy Returns\",\"Strategy Returns\",\"Strategy Returns\",\"Strategy Returns\",\"Strategy Returns\",\"Strategy Returns\",\"Strategy Returns\",\"Strategy Returns\",\"Strategy Returns\",\"Strategy Returns\",\"Strategy Returns\",\"Strategy Returns\",\"Strategy Returns\",\"Strategy Returns\",\"Strategy Returns\",\"Strategy Returns\",\"Strategy Returns\",\"Strategy Returns\",\"Strategy Returns\",\"Strategy Returns\",\"Strategy Returns\",\"Strategy Returns\",\"Strategy Returns\",\"Strategy Returns\",\"Strategy Returns\",\"Strategy Returns\",\"Strategy Returns\",\"Strategy Returns\",\"Strategy Returns\",\"Strategy Returns\",\"Strategy Returns\",\"Strategy Returns\",\"Strategy Returns\",\"Strategy Returns\",\"Strategy Returns\",\"Strategy Returns\",\"Strategy Returns\",\"Strategy Returns\",\"Strategy Returns\",\"Strategy Returns\",\"Strategy Returns\",\"Strategy Returns\",\"Strategy Returns\",\"Strategy Returns\",\"Strategy Returns\",\"Strategy Returns\",\"Strategy Returns\",\"Strategy Returns\",\"Strategy Returns\",\"Strategy Returns\",\"Strategy Returns\",\"Strategy Returns\",\"Strategy Returns\",\"Strategy Returns\",\"Strategy Returns\",\"Strategy Returns\",\"Strategy Returns\",\"Strategy Returns\",\"Strategy Returns\",\"Strategy Returns\",\"Strategy Returns\",\"Strategy Returns\",\"Strategy Returns\",\"Strategy Returns\",\"Strategy Returns\",\"Strategy Returns\",\"Strategy Returns\",\"Strategy Returns\",\"Strategy Returns\",\"Strategy Returns\",\"Strategy Returns\",\"Strategy Returns\",\"Strategy Returns\",\"Strategy Returns\",\"Strategy Returns\",\"Strategy Returns\",\"Strategy Returns\",\"Strategy Returns\",\"Strategy Returns\",\"Strategy Returns\",\"Strategy Returns\",\"Strategy Returns\",\"Strategy Returns\",\"Strategy Returns\",\"Strategy Returns\",\"Strategy Returns\",\"Strategy Returns\",\"Strategy Returns\",\"Strategy Returns\",\"Strategy Returns\",\"Strategy Returns\",\"Strategy Returns\",\"Strategy Returns\",\"Strategy Returns\",\"Strategy Returns\",\"Strategy Returns\",\"Strategy Returns\",\"Strategy Returns\",\"Strategy Returns\",\"Strategy Returns\",\"Strategy Returns\",\"Strategy Returns\",\"Strategy Returns\",\"Strategy Returns\",\"Strategy Returns\",\"Strategy Returns\",\"Strategy Returns\",\"Strategy Returns\",\"Strategy Returns\",\"Strategy Returns\",\"Strategy Returns\",\"Strategy Returns\",\"Strategy Returns\",\"Strategy Returns\",\"Strategy Returns\",\"Strategy Returns\",\"Strategy Returns\",\"Strategy Returns\",\"Strategy Returns\",\"Strategy Returns\",\"Strategy Returns\",\"Strategy Returns\",\"Strategy Returns\",\"Strategy Returns\",\"Strategy Returns\",\"Strategy Returns\",\"Strategy Returns\",\"Strategy Returns\",\"Strategy Returns\",\"Strategy Returns\",\"Strategy Returns\",\"Strategy Returns\",\"Strategy Returns\",\"Strategy Returns\",\"Strategy Returns\",\"Strategy Returns\",\"Strategy Returns\",\"Strategy Returns\",\"Strategy Returns\",\"Strategy Returns\",\"Strategy Returns\",\"Strategy Returns\",\"Strategy Returns\",\"Strategy Returns\",\"Strategy Returns\",\"Strategy Returns\",\"Strategy Returns\",\"Strategy Returns\",\"Strategy Returns\",\"Strategy Returns\",\"Strategy Returns\",\"Strategy Returns\",\"Strategy Returns\",\"Strategy Returns\",\"Strategy Returns\",\"Strategy Returns\",\"Strategy Returns\",\"Strategy Returns\",\"Strategy Returns\",\"Strategy Returns\",\"Strategy Returns\",\"Strategy Returns\",\"Strategy Returns\",\"Strategy Returns\",\"Strategy Returns\",\"Strategy Returns\",\"Strategy Returns\",\"Strategy Returns\",\"Strategy Returns\",\"Strategy Returns\",\"Strategy Returns\",\"Strategy Returns\",\"Strategy Returns\",\"Strategy Returns\",\"Strategy Returns\",\"Strategy Returns\",\"Strategy Returns\",\"Strategy Returns\",\"Strategy Returns\",\"Strategy Returns\",\"Strategy Returns\",\"Strategy Returns\",\"Strategy Returns\",\"Strategy Returns\",\"Strategy Returns\",\"Strategy Returns\",\"Strategy Returns\",\"Strategy Returns\",\"Strategy Returns\",\"Strategy Returns\",\"Strategy Returns\",\"Strategy Returns\",\"Strategy Returns\",\"Strategy Returns\",\"Strategy Returns\",\"Strategy Returns\",\"Strategy Returns\",\"Strategy Returns\",\"Strategy Returns\",\"Strategy Returns\",\"Strategy Returns\",\"Strategy Returns\",\"Strategy Returns\",\"Strategy Returns\",\"Strategy Returns\",\"Strategy Returns\",\"Strategy Returns\",\"Strategy Returns\",\"Strategy Returns\",\"Strategy Returns\",\"Strategy Returns\",\"Strategy Returns\",\"Strategy Returns\",\"Strategy Returns\",\"Strategy Returns\",\"Strategy Returns\",\"Strategy Returns\",\"Strategy Returns\",\"Strategy Returns\",\"Strategy Returns\",\"Strategy Returns\",\"Strategy Returns\",\"Strategy Returns\",\"Strategy Returns\",\"Strategy Returns\",\"Strategy Returns\",\"Strategy Returns\",\"Strategy Returns\",\"Strategy Returns\",\"Strategy Returns\",\"Strategy Returns\",\"Strategy Returns\",\"Strategy Returns\",\"Strategy Returns\",\"Strategy Returns\",\"Strategy Returns\",\"Strategy Returns\",\"Strategy Returns\",\"Strategy Returns\",\"Strategy Returns\",\"Strategy Returns\",\"Strategy Returns\",\"Strategy Returns\",\"Strategy Returns\",\"Strategy Returns\",\"Strategy Returns\",\"Strategy Returns\",\"Strategy Returns\",\"Strategy Returns\",\"Strategy Returns\",\"Strategy Returns\",\"Strategy Returns\",\"Strategy Returns\",\"Strategy Returns\",\"Strategy Returns\",\"Strategy Returns\",\"Strategy Returns\",\"Strategy Returns\",\"Strategy Returns\",\"Strategy Returns\",\"Strategy Returns\",\"Strategy Returns\",\"Strategy Returns\",\"Strategy Returns\",\"Strategy Returns\",\"Strategy Returns\",\"Strategy Returns\",\"Strategy Returns\",\"Strategy Returns\",\"Strategy Returns\",\"Strategy Returns\",\"Strategy Returns\",\"Strategy Returns\",\"Strategy Returns\",\"Strategy Returns\",\"Strategy Returns\",\"Strategy Returns\",\"Strategy Returns\",\"Strategy Returns\",\"Strategy Returns\",\"Strategy Returns\",\"Strategy Returns\",\"Strategy Returns\",\"Strategy Returns\",\"Strategy Returns\",\"Strategy Returns\",\"Strategy Returns\",\"Strategy Returns\",\"Strategy Returns\",\"Strategy Returns\",\"Strategy Returns\",\"Strategy Returns\",\"Strategy Returns\",\"Strategy Returns\",\"Strategy Returns\",\"Strategy Returns\",\"Strategy Returns\",\"Strategy Returns\",\"Strategy Returns\",\"Strategy Returns\",\"Strategy Returns\",\"Strategy Returns\",\"Strategy Returns\",\"Strategy Returns\",\"Strategy Returns\",\"Strategy Returns\",\"Strategy Returns\",\"Strategy Returns\",\"Strategy Returns\",\"Strategy Returns\",\"Strategy Returns\",\"Strategy Returns\",\"Strategy Returns\",\"Strategy Returns\",\"Strategy Returns\",\"Strategy Returns\",\"Strategy Returns\",\"Strategy Returns\",\"Strategy Returns\",\"Strategy Returns\",\"Strategy Returns\",\"Strategy Returns\",\"Strategy Returns\",\"Strategy Returns\",\"Strategy Returns\",\"Strategy Returns\",\"Strategy Returns\",\"Strategy Returns\",\"Strategy Returns\",\"Strategy Returns\",\"Strategy Returns\",\"Strategy Returns\",\"Strategy Returns\",\"Strategy Returns\",\"Strategy Returns\",\"Strategy Returns\",\"Strategy Returns\",\"Strategy Returns\",\"Strategy Returns\",\"Strategy Returns\",\"Strategy Returns\",\"Strategy Returns\",\"Strategy Returns\",\"Strategy Returns\",\"Strategy Returns\",\"Strategy Returns\",\"Strategy Returns\",\"Strategy Returns\",\"Strategy Returns\",\"Strategy Returns\",\"Strategy Returns\",\"Strategy Returns\",\"Strategy Returns\",\"Strategy Returns\",\"Strategy Returns\",\"Strategy Returns\",\"Strategy Returns\",\"Strategy Returns\",\"Strategy Returns\",\"Strategy Returns\",\"Strategy Returns\",\"Strategy Returns\",\"Strategy Returns\",\"Strategy Returns\",\"Strategy Returns\",\"Strategy Returns\",\"Strategy Returns\",\"Strategy Returns\",\"Strategy Returns\",\"Strategy Returns\",\"Strategy Returns\",\"Strategy Returns\",\"Strategy Returns\",\"Strategy Returns\",\"Strategy Returns\",\"Strategy Returns\",\"Strategy Returns\",\"Strategy Returns\",\"Strategy Returns\",\"Strategy Returns\",\"Strategy Returns\",\"Strategy Returns\",\"Strategy Returns\",\"Strategy Returns\",\"Strategy Returns\",\"Strategy Returns\",\"Strategy Returns\",\"Strategy Returns\",\"Strategy Returns\",\"Strategy Returns\",\"Strategy Returns\",\"Strategy Returns\",\"Strategy Returns\",\"Strategy Returns\",\"Strategy Returns\",\"Strategy Returns\",\"Strategy Returns\",\"Strategy Returns\",\"Strategy Returns\",\"Strategy Returns\",\"Strategy Returns\",\"Strategy Returns\",\"Strategy Returns\",\"Strategy Returns\",\"Strategy Returns\",\"Strategy Returns\",\"Strategy Returns\",\"Strategy Returns\",\"Strategy Returns\",\"Strategy Returns\",\"Strategy Returns\",\"Strategy Returns\",\"Strategy Returns\",\"Strategy Returns\",\"Strategy Returns\",\"Strategy Returns\",\"Strategy Returns\",\"Strategy Returns\",\"Strategy Returns\",\"Strategy Returns\",\"Strategy Returns\",\"Strategy Returns\",\"Strategy Returns\",\"Strategy Returns\",\"Strategy Returns\",\"Strategy Returns\",\"Strategy Returns\",\"Strategy Returns\",\"Strategy Returns\",\"Strategy Returns\",\"Strategy Returns\",\"Strategy Returns\",\"Strategy Returns\",\"Strategy Returns\",\"Strategy Returns\",\"Strategy Returns\",\"Strategy Returns\",\"Strategy Returns\",\"Strategy Returns\",\"Strategy Returns\",\"Strategy Returns\",\"Strategy Returns\",\"Strategy Returns\",\"Strategy Returns\",\"Strategy Returns\",\"Strategy Returns\",\"Strategy Returns\",\"Strategy Returns\",\"Strategy Returns\",\"Strategy Returns\",\"Strategy Returns\",\"Strategy Returns\",\"Strategy Returns\",\"Strategy Returns\",\"Strategy Returns\",\"Strategy Returns\",\"Strategy Returns\",\"Strategy Returns\",\"Strategy Returns\",\"Strategy Returns\",\"Strategy Returns\",\"Strategy Returns\",\"Strategy Returns\",\"Strategy Returns\",\"Strategy Returns\",\"Strategy Returns\",\"Strategy Returns\",\"Strategy Returns\",\"Strategy Returns\",\"Strategy Returns\",\"Strategy Returns\",\"Strategy Returns\",\"Strategy Returns\",\"Strategy Returns\",\"Strategy Returns\",\"Strategy Returns\",\"Strategy Returns\",\"Strategy Returns\",\"Strategy Returns\",\"Strategy Returns\",\"Strategy Returns\",\"Strategy Returns\",\"Strategy Returns\",\"Strategy Returns\",\"Strategy Returns\",\"Strategy Returns\",\"Strategy Returns\",\"Strategy Returns\",\"Strategy Returns\",\"Strategy Returns\",\"Strategy Returns\",\"Strategy Returns\",\"Strategy Returns\",\"Strategy Returns\",\"Strategy Returns\",\"Strategy Returns\",\"Strategy Returns\",\"Strategy Returns\",\"Strategy Returns\",\"Strategy Returns\",\"Strategy Returns\",\"Strategy Returns\",\"Strategy Returns\",\"Strategy Returns\",\"Strategy Returns\",\"Strategy Returns\",\"Strategy Returns\",\"Strategy Returns\",\"Strategy Returns\",\"Strategy Returns\",\"Strategy Returns\",\"Strategy Returns\",\"Strategy Returns\",\"Strategy Returns\",\"Strategy Returns\",\"Strategy Returns\",\"Strategy Returns\",\"Strategy Returns\",\"Strategy Returns\",\"Strategy Returns\",\"Strategy Returns\",\"Strategy Returns\",\"Strategy Returns\",\"Strategy Returns\",\"Strategy Returns\",\"Strategy Returns\",\"Strategy Returns\",\"Strategy Returns\",\"Strategy Returns\",\"Strategy Returns\",\"Strategy Returns\",\"Strategy Returns\",\"Strategy Returns\",\"Strategy Returns\",\"Strategy Returns\",\"Strategy Returns\",\"Strategy Returns\",\"Strategy Returns\",\"Strategy Returns\",\"Strategy Returns\",\"Strategy Returns\",\"Strategy Returns\",\"Strategy Returns\",\"Strategy Returns\",\"Strategy Returns\",\"Strategy Returns\",\"Strategy Returns\",\"Strategy Returns\",\"Strategy Returns\",\"Strategy Returns\",\"Strategy Returns\",\"Strategy Returns\",\"Strategy Returns\",\"Strategy Returns\",\"Strategy Returns\",\"Strategy Returns\",\"Strategy Returns\",\"Strategy Returns\",\"Strategy Returns\",\"Strategy Returns\",\"Strategy Returns\",\"Strategy Returns\",\"Strategy Returns\",\"Strategy Returns\",\"Strategy Returns\",\"Strategy Returns\",\"Strategy Returns\",\"Strategy Returns\",\"Strategy Returns\",\"Strategy Returns\",\"Strategy Returns\",\"Strategy Returns\",\"Strategy Returns\",\"Strategy Returns\",\"Strategy Returns\",\"Strategy Returns\",\"Strategy Returns\",\"Strategy Returns\",\"Strategy Returns\",\"Strategy Returns\",\"Strategy Returns\",\"Strategy Returns\",\"Strategy Returns\",\"Strategy Returns\",\"Strategy Returns\",\"Strategy Returns\",\"Strategy Returns\",\"Strategy Returns\",\"Strategy Returns\",\"Strategy Returns\",\"Strategy Returns\",\"Strategy Returns\",\"Strategy Returns\",\"Strategy Returns\",\"Strategy Returns\",\"Strategy Returns\",\"Strategy Returns\",\"Strategy Returns\",\"Strategy Returns\",\"Strategy Returns\",\"Strategy Returns\",\"Strategy Returns\",\"Strategy Returns\",\"Strategy Returns\",\"Strategy Returns\",\"Strategy Returns\",\"Strategy Returns\",\"Strategy Returns\",\"Strategy Returns\",\"Strategy Returns\",\"Strategy Returns\",\"Strategy Returns\",\"Strategy Returns\",\"Strategy Returns\",\"Strategy Returns\",\"Strategy Returns\",\"Strategy Returns\",\"Strategy Returns\",\"Strategy Returns\",\"Strategy Returns\",\"Strategy Returns\",\"Strategy Returns\",\"Strategy Returns\",\"Strategy Returns\",\"Strategy Returns\",\"Strategy Returns\",\"Strategy Returns\",\"Strategy Returns\",\"Strategy Returns\",\"Strategy Returns\",\"Strategy Returns\",\"Strategy Returns\",\"Strategy Returns\",\"Strategy Returns\",\"Strategy Returns\",\"Strategy Returns\",\"Strategy Returns\",\"Strategy Returns\",\"Strategy Returns\",\"Strategy Returns\",\"Strategy Returns\",\"Strategy Returns\",\"Strategy Returns\",\"Strategy Returns\",\"Strategy Returns\",\"Strategy Returns\",\"Strategy Returns\",\"Strategy Returns\",\"Strategy Returns\",\"Strategy Returns\",\"Strategy Returns\",\"Strategy Returns\",\"Strategy Returns\",\"Strategy Returns\",\"Strategy Returns\",\"Strategy Returns\",\"Strategy Returns\",\"Strategy Returns\",\"Strategy Returns\",\"Strategy Returns\",\"Strategy Returns\",\"Strategy Returns\",\"Strategy Returns\",\"Strategy Returns\",\"Strategy Returns\",\"Strategy Returns\",\"Strategy Returns\",\"Strategy Returns\",\"Strategy Returns\",\"Strategy Returns\",\"Strategy Returns\",\"Strategy Returns\",\"Strategy Returns\",\"Strategy Returns\",\"Strategy Returns\",\"Strategy Returns\",\"Strategy Returns\",\"Strategy Returns\",\"Strategy Returns\",\"Strategy Returns\",\"Strategy Returns\",\"Strategy Returns\",\"Strategy Returns\",\"Strategy Returns\",\"Strategy Returns\",\"Strategy Returns\",\"Strategy Returns\",\"Strategy Returns\",\"Strategy Returns\",\"Strategy Returns\",\"Strategy Returns\",\"Strategy Returns\",\"Strategy Returns\",\"Strategy Returns\",\"Strategy Returns\",\"Strategy Returns\",\"Strategy Returns\",\"Strategy Returns\",\"Strategy Returns\",\"Strategy Returns\",\"Strategy Returns\",\"Strategy Returns\",\"Strategy Returns\",\"Strategy Returns\",\"Strategy Returns\",\"Strategy Returns\",\"Strategy Returns\",\"Strategy Returns\",\"Strategy Returns\",\"Strategy Returns\",\"Strategy Returns\",\"Strategy Returns\",\"Strategy Returns\",\"Strategy Returns\",\"Strategy Returns\",\"Strategy Returns\",\"Strategy Returns\",\"Strategy Returns\",\"Strategy Returns\",\"Strategy Returns\",\"Strategy Returns\",\"Strategy Returns\",\"Strategy Returns\",\"Strategy Returns\",\"Strategy Returns\",\"Strategy Returns\",\"Strategy Returns\",\"Strategy Returns\",\"Strategy Returns\",\"Strategy Returns\",\"Strategy Returns\",\"Strategy Returns\",\"Strategy Returns\",\"Strategy Returns\",\"Strategy Returns\",\"Strategy Returns\",\"Strategy Returns\",\"Strategy Returns\",\"Strategy Returns\",\"Strategy Returns\",\"Strategy Returns\",\"Strategy Returns\",\"Strategy Returns\",\"Strategy Returns\",\"Strategy Returns\",\"Strategy Returns\",\"Strategy Returns\",\"Strategy Returns\",\"Strategy Returns\",\"Strategy Returns\",\"Strategy Returns\",\"Strategy Returns\",\"Strategy Returns\",\"Strategy Returns\",\"Strategy Returns\",\"Strategy Returns\",\"Strategy Returns\",\"Strategy Returns\",\"Strategy Returns\",\"Strategy Returns\",\"Strategy Returns\",\"Strategy Returns\",\"Strategy Returns\",\"Strategy Returns\",\"Strategy Returns\",\"Strategy Returns\",\"Strategy Returns\",\"Strategy Returns\",\"Strategy Returns\",\"Strategy Returns\",\"Strategy Returns\",\"Strategy Returns\",\"Strategy Returns\",\"Strategy Returns\",\"Strategy Returns\",\"Strategy Returns\",\"Strategy Returns\",\"Strategy Returns\",\"Strategy Returns\",\"Strategy Returns\",\"Strategy Returns\",\"Strategy Returns\",\"Strategy Returns\",\"Strategy Returns\",\"Strategy Returns\",\"Strategy Returns\",\"Strategy Returns\",\"Strategy Returns\",\"Strategy Returns\",\"Strategy Returns\",\"Strategy Returns\",\"Strategy Returns\",\"Strategy Returns\",\"Strategy Returns\",\"Strategy Returns\",\"Strategy Returns\",\"Strategy Returns\",\"Strategy Returns\",\"Strategy Returns\",\"Strategy Returns\",\"Strategy Returns\",\"Strategy Returns\",\"Strategy Returns\",\"Strategy Returns\",\"Strategy Returns\",\"Strategy Returns\",\"Strategy Returns\",\"Strategy Returns\",\"Strategy Returns\",\"Strategy Returns\",\"Strategy Returns\",\"Strategy Returns\",\"Strategy Returns\",\"Strategy Returns\",\"Strategy Returns\",\"Strategy Returns\",\"Strategy Returns\",\"Strategy Returns\",\"Strategy Returns\",\"Strategy Returns\",\"Strategy Returns\",\"Strategy Returns\",\"Strategy Returns\",\"Strategy Returns\",\"Strategy Returns\",\"Strategy Returns\",\"Strategy Returns\",\"Strategy Returns\",\"Strategy Returns\",\"Strategy Returns\",\"Strategy Returns\",\"Strategy Returns\",\"Strategy Returns\",\"Strategy Returns\",\"Strategy Returns\",\"Strategy Returns\",\"Strategy Returns\",\"Strategy Returns\",\"Strategy Returns\",\"Strategy Returns\",\"Strategy Returns\",\"Strategy Returns\",\"Strategy Returns\",\"Strategy Returns\",\"Strategy Returns\",\"Strategy Returns\",\"Strategy Returns\",\"Strategy Returns\",\"Strategy Returns\",\"Strategy Returns\",\"Strategy Returns\",\"Strategy Returns\",\"Strategy Returns\",\"Strategy Returns\",\"Strategy Returns\",\"Strategy Returns\",\"Strategy Returns\",\"Strategy Returns\",\"Strategy Returns\",\"Strategy Returns\",\"Strategy Returns\",\"Strategy Returns\",\"Strategy Returns\",\"Strategy Returns\",\"Strategy Returns\",\"Strategy Returns\",\"Strategy Returns\",\"Strategy Returns\",\"Strategy Returns\",\"Strategy Returns\",\"Strategy Returns\",\"Strategy Returns\",\"Strategy Returns\",\"Strategy Returns\",\"Strategy Returns\",\"Strategy Returns\",\"Strategy Returns\",\"Strategy Returns\",\"Strategy Returns\",\"Strategy Returns\",\"Strategy Returns\",\"Strategy Returns\",\"Strategy Returns\",\"Strategy Returns\",\"Strategy Returns\",\"Strategy Returns\",\"Strategy Returns\",\"Strategy Returns\",\"Strategy Returns\",\"Strategy Returns\",\"Strategy Returns\",\"Strategy Returns\",\"Strategy Returns\",\"Strategy Returns\",\"Strategy Returns\",\"Strategy Returns\",\"Strategy Returns\",\"Strategy Returns\",\"Strategy Returns\",\"Strategy Returns\",\"Strategy Returns\",\"Strategy Returns\",\"Strategy Returns\",\"Strategy Returns\",\"Strategy Returns\",\"Strategy Returns\",\"Strategy Returns\",\"Strategy Returns\",\"Strategy Returns\",\"Strategy Returns\",\"Strategy Returns\",\"Strategy Returns\",\"Strategy Returns\",\"Strategy Returns\",\"Strategy Returns\",\"Strategy Returns\",\"Strategy Returns\",\"Strategy Returns\",\"Strategy Returns\",\"Strategy Returns\",\"Strategy Returns\",\"Strategy Returns\",\"Strategy Returns\",\"Strategy Returns\",\"Strategy Returns\",\"Strategy Returns\",\"Strategy Returns\",\"Strategy Returns\",\"Strategy Returns\",\"Strategy Returns\",\"Strategy Returns\",\"Strategy Returns\",\"Strategy Returns\",\"Strategy Returns\",\"Strategy Returns\",\"Strategy Returns\",\"Strategy Returns\",\"Strategy Returns\",\"Strategy Returns\",\"Strategy Returns\",\"Strategy Returns\",\"Strategy Returns\",\"Strategy Returns\",\"Strategy Returns\",\"Strategy Returns\",\"Strategy Returns\",\"Strategy Returns\",\"Strategy Returns\",\"Strategy Returns\",\"Strategy Returns\",\"Strategy Returns\",\"Strategy Returns\",\"Strategy Returns\",\"Strategy Returns\",\"Strategy Returns\",\"Strategy Returns\",\"Strategy Returns\",\"Strategy Returns\",\"Strategy Returns\",\"Strategy Returns\",\"Strategy Returns\",\"Strategy Returns\",\"Strategy Returns\",\"Strategy Returns\",\"Strategy Returns\",\"Strategy Returns\",\"Strategy Returns\",\"Strategy Returns\",\"Strategy Returns\",\"Strategy Returns\",\"Strategy Returns\",\"Strategy Returns\",\"Strategy Returns\",\"Strategy Returns\",\"Strategy Returns\",\"Strategy Returns\",\"Strategy Returns\",\"Strategy Returns\",\"Strategy Returns\",\"Strategy Returns\",\"Strategy Returns\",\"Strategy Returns\",\"Strategy Returns\",\"Strategy Returns\",\"Strategy Returns\",\"Strategy Returns\",\"Strategy Returns\",\"Strategy Returns\",\"Strategy Returns\",\"Strategy Returns\",\"Strategy Returns\",\"Strategy Returns\",\"Strategy Returns\",\"Strategy Returns\",\"Strategy Returns\",\"Strategy Returns\",\"Strategy Returns\",\"Strategy Returns\",\"Strategy Returns\",\"Strategy Returns\",\"Strategy Returns\",\"Strategy Returns\",\"Strategy Returns\",\"Strategy Returns\",\"Strategy Returns\",\"Strategy Returns\",\"Strategy Returns\",\"Strategy Returns\",\"Strategy Returns\",\"Strategy Returns\",\"Strategy Returns\",\"Strategy Returns\",\"Strategy Returns\",\"Strategy Returns\",\"Strategy Returns\",\"Strategy Returns\",\"Strategy Returns\",\"Strategy Returns\",\"Strategy Returns\",\"Strategy Returns\",\"Strategy Returns\",\"Strategy Returns\",\"Strategy Returns\",\"Strategy Returns\",\"Strategy Returns\",\"Strategy Returns\",\"Strategy Returns\",\"Strategy Returns\",\"Strategy Returns\",\"Strategy Returns\",\"Strategy Returns\",\"Strategy Returns\",\"Strategy Returns\",\"Strategy Returns\",\"Strategy Returns\",\"Strategy Returns\",\"Strategy Returns\",\"Strategy Returns\",\"Strategy Returns\",\"Strategy Returns\",\"Strategy Returns\",\"Strategy Returns\",\"Strategy Returns\",\"Strategy Returns\",\"Strategy Returns\",\"Strategy Returns\",\"Strategy Returns\",\"Strategy Returns\",\"Strategy Returns\",\"Strategy Returns\",\"Strategy Returns\",\"Strategy Returns\",\"Strategy Returns\",\"Strategy Returns\",\"Strategy Returns\",\"Strategy Returns\",\"Strategy Returns\",\"Strategy Returns\",\"Strategy Returns\",\"Strategy Returns\",\"Strategy Returns\",\"Strategy Returns\",\"Strategy Returns\",\"Strategy Returns\",\"Strategy Returns\",\"Strategy Returns\",\"Strategy Returns\",\"Strategy Returns\",\"Strategy Returns\",\"Strategy Returns\",\"Strategy Returns\",\"Strategy Returns\",\"Strategy Returns\",\"Strategy Returns\",\"Strategy Returns\"],\"date\":{\"__ndarray__\":\"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\",\"dtype\":\"float64\",\"order\":\"little\",\"shape\":[1090]},\"value\":{\"__ndarray__\":\"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\",\"dtype\":\"float64\",\"order\":\"little\",\"shape\":[1090]}},\"selected\":{\"id\":\"3002\"},\"selection_policy\":{\"id\":\"3030\"}},\"id\":\"3001\",\"type\":\"ColumnDataSource\"},{\"attributes\":{},\"id\":\"2951\",\"type\":\"WheelZoomTool\"},{\"attributes\":{\"axis\":{\"id\":\"2945\"},\"dimension\":1,\"grid_line_color\":null,\"ticker\":null},\"id\":\"2948\",\"type\":\"Grid\"},{\"attributes\":{},\"id\":\"2965\",\"type\":\"BasicTickFormatter\"},{\"attributes\":{\"below\":[{\"id\":\"2941\"}],\"center\":[{\"id\":\"2944\"},{\"id\":\"2948\"}],\"height\":300,\"left\":[{\"id\":\"2945\"}],\"margin\":[5,5,5,5],\"min_border_bottom\":10,\"min_border_left\":10,\"min_border_right\":10,\"min_border_top\":10,\"renderers\":[{\"id\":\"2974\"},{\"id\":\"3007\"}],\"right\":[{\"id\":\"2998\"}],\"sizing_mode\":\"fixed\",\"title\":{\"id\":\"2933\"},\"toolbar\":{\"id\":\"2955\"},\"width\":700,\"x_range\":{\"id\":\"2928\"},\"x_scale\":{\"id\":\"2937\"},\"y_range\":{\"id\":\"2929\"},\"y_scale\":{\"id\":\"2939\"}},\"id\":\"2932\",\"subtype\":\"Figure\",\"type\":\"Plot\"},{\"attributes\":{\"axis_label\":\"Cumulative Return\",\"formatter\":{\"id\":\"2965\"},\"major_label_policy\":{\"id\":\"2966\"},\"ticker\":{\"id\":\"2946\"}},\"id\":\"2945\",\"type\":\"LinearAxis\"},{\"attributes\":{},\"id\":\"2950\",\"type\":\"PanTool\"},{\"attributes\":{},\"id\":\"2949\",\"type\":\"SaveTool\"},{\"attributes\":{\"line_color\":\"#30a2da\",\"line_width\":2,\"x\":{\"field\":\"date\"},\"y\":{\"field\":\"value\"}},\"id\":\"2971\",\"type\":\"Line\"},{\"attributes\":{\"active_multi\":null,\"tools\":[{\"id\":\"2930\"},{\"id\":\"2949\"},{\"id\":\"2950\"},{\"id\":\"2951\"},{\"id\":\"2952\"},{\"id\":\"2953\"}]},\"id\":\"2955\",\"type\":\"Toolbar\"},{\"attributes\":{\"end\":1611330300000.0,\"reset_end\":1611330300000.0,\"reset_start\":1546508700000.0,\"start\":1546508700000.0,\"tags\":[[[\"date\",\"date\",null]]]},\"id\":\"2928\",\"type\":\"Range1d\"}],\"root_ids\":[\"2926\"]},\"title\":\"Bokeh Application\",\"version\":\"2.3.2\"}};\n",
       "    var render_items = [{\"docid\":\"2cfcbc25-c76a-42fe-bed0-1d2a38c4d736\",\"root_ids\":[\"2926\"],\"roots\":{\"2926\":\"1bc1bd19-4ca3-4e75-82f5-f5f6f2f52a6f\"}}];\n",
       "    root.Bokeh.embed.embed_items_notebook(docs_json, render_items);\n",
       "  }\n",
       "  if (root.Bokeh !== undefined && root.Bokeh.Panel !== undefined) {\n",
       "    embed_document(root);\n",
       "  } else {\n",
       "    var attempts = 0;\n",
       "    var timer = setInterval(function(root) {\n",
       "      if (root.Bokeh !== undefined && root.Bokeh.Panel !== undefined) {\n",
       "        clearInterval(timer);\n",
       "        embed_document(root);\n",
       "      } else if (document.readyState == \"complete\") {\n",
       "        attempts++;\n",
       "        if (attempts > 200) {\n",
       "          clearInterval(timer);\n",
       "          console.log(\"Bokeh: ERROR: Unable to run BokehJS code because BokehJS library is missing\");\n",
       "        }\n",
       "      }\n",
       "    }, 25, root)\n",
       "  }\n",
       "})(window);</script>"
      ],
      "text/plain": [
       ":NdOverlay   [Variable]\n",
       "   :Curve   [date]   (value)"
      ]
     },
     "execution_count": 97,
     "metadata": {
      "application/vnd.holoviews_exec.v0+json": {
       "id": "2926"
      }
     },
     "output_type": "execute_result"
    }
   ],
   "source": [
    "# Plot the actual returns versus the strategy returns\n",
    "baseline_performance_plot = (1 + predictions_df[['Actual Returns', 'Strategy Returns']]).cumprod().hvplot(ylabel = \"Cumulative Return\", title = \"Baseline Model Performance\")\n",
    "baseline_performance_plot\n"
   ]
  },
  {
   "cell_type": "markdown",
   "metadata": {},
   "source": [
    "---\n",
    "\n",
    "## Tune the Baseline Trading Algorithm"
   ]
  },
  {
   "cell_type": "markdown",
   "metadata": {},
   "source": [
    "## Step 6: Use an Alternative ML Model and Evaluate Strategy Returns"
   ]
  },
  {
   "cell_type": "markdown",
   "metadata": {},
   "source": [
    "In this section, you’ll tune, or adjust, the model’s input features to find the parameters that result in the best trading outcomes. You’ll choose the best by comparing the cumulative products of the strategy returns."
   ]
  },
  {
   "cell_type": "markdown",
   "metadata": {},
   "source": [
    "### Step 1: Tune the training algorithm by adjusting the size of the training dataset. \n",
    "\n",
    "To do so, slice your data into different periods. Rerun the notebook with the updated parameters, and record the results in your `README.md` file. \n",
    "\n",
    "Answer the following question: What impact resulted from increasing or decreasing the training window?"
   ]
  },
  {
   "cell_type": "markdown",
   "metadata": {},
   "source": [
    "### Step 2: Tune the trading algorithm by adjusting the SMA input features. \n",
    "\n",
    "Adjust one or both of the windows for the algorithm. Rerun the notebook with the updated parameters, and record the results in your `README.md` file. \n",
    "\n",
    "Answer the following question: What impact resulted from increasing or decreasing either or both of the SMA windows?"
   ]
  },
  {
   "cell_type": "markdown",
   "metadata": {},
   "source": [
    "### Step 3: Choose the set of parameters that best improved the trading algorithm returns. \n",
    "\n",
    "Save a PNG image of the cumulative product of the actual returns vs. the strategy returns, and document your conclusion in your `README.md` file."
   ]
  },
  {
   "cell_type": "markdown",
   "metadata": {},
   "source": [
    "---\n",
    "\n",
    "## Evaluate a New Machine Learning Classifier\n",
    "\n",
    "In this section, you’ll use the original parameters that the starter code provided. But, you’ll apply them to the performance of a second machine learning model. "
   ]
  },
  {
   "cell_type": "markdown",
   "metadata": {},
   "source": [
    "### Step 1:  Import a new classifier, such as `AdaBoost`, `DecisionTreeClassifier`, or `LogisticRegression`. (For the full list of classifiers, refer to the [Supervised learning page](https://scikit-learn.org/stable/supervised_learning.html) in the scikit-learn documentation.)"
   ]
  },
  {
   "cell_type": "code",
   "execution_count": 21,
   "metadata": {},
   "outputs": [],
   "source": [
    "# Import a new classifier from SKLearn\n",
    "from sklearn import linear_model\n",
    "\n",
    "# Initiate the model instance\n",
    "model_2 = linear_model.LogisticRegression()\n"
   ]
  },
  {
   "cell_type": "markdown",
   "metadata": {},
   "source": [
    "### Step 2: Using the original training data as the baseline model, fit another model with the new classifier."
   ]
  },
  {
   "cell_type": "code",
   "execution_count": 22,
   "metadata": {},
   "outputs": [
    {
     "data": {
      "text/plain": [
       "array([ 1.,  1.,  1., ..., -1., -1., -1.])"
      ]
     },
     "execution_count": 22,
     "metadata": {},
     "output_type": "execute_result"
    }
   ],
   "source": [
    "# Fit the model using the training data\n",
    "model_2 = model_2.fit(X_train_scaled, y_train)\n",
    "\n",
    "# Use the testing dataset to generate the predictions for the new model\n",
    "pred_2 = model_2.predict(X_test_scaled)\n",
    "\n",
    "# Review the model's predicted values\n",
    "pred_2"
   ]
  },
  {
   "cell_type": "markdown",
   "metadata": {},
   "source": [
    "### Step 3: Backtest the new model to evaluate its performance. \n",
    "\n",
    "Save a PNG image of the cumulative product of the actual returns vs. the strategy returns for this updated trading algorithm, and write your conclusions in your `README.md` file. \n",
    "\n",
    "Answer the following questions: \n",
    "Did this new model perform better or worse than the provided baseline model? \n",
    "Did this new model perform better or worse than your tuned trading algorithm?"
   ]
  },
  {
   "cell_type": "code",
   "execution_count": 23,
   "metadata": {},
   "outputs": [
    {
     "name": "stdout",
     "output_type": "stream",
     "text": [
      "              precision    recall  f1-score   support\n",
      "\n",
      "        -1.0       0.44      0.33      0.38      1804\n",
      "         1.0       0.56      0.66      0.61      2288\n",
      "\n",
      "    accuracy                           0.52      4092\n",
      "   macro avg       0.50      0.50      0.49      4092\n",
      "weighted avg       0.51      0.52      0.51      4092\n",
      "\n"
     ]
    }
   ],
   "source": [
    "# Use a classification report to evaluate the model using the predictions and testing data\n",
    "classification_report = classification_report(y_test, pred_2)\n",
    "\n",
    "# Print the classification report\n",
    "print(classification_report)\n"
   ]
  },
  {
   "cell_type": "code",
   "execution_count": 24,
   "metadata": {},
   "outputs": [
    {
     "data": {
      "text/plain": [
       " 1.0    2718\n",
       "-1.0    1374\n",
       "Name: Predicted, dtype: int64"
      ]
     },
     "metadata": {},
     "output_type": "display_data"
    },
    {
     "data": {
      "text/html": [
       "<div>\n",
       "<style scoped>\n",
       "    .dataframe tbody tr th:only-of-type {\n",
       "        vertical-align: middle;\n",
       "    }\n",
       "\n",
       "    .dataframe tbody tr th {\n",
       "        vertical-align: top;\n",
       "    }\n",
       "\n",
       "    .dataframe thead th {\n",
       "        text-align: right;\n",
       "    }\n",
       "</style>\n",
       "<table border=\"1\" class=\"dataframe\">\n",
       "  <thead>\n",
       "    <tr style=\"text-align: right;\">\n",
       "      <th></th>\n",
       "      <th>Predicted</th>\n",
       "      <th>Actual Returns</th>\n",
       "      <th>Strategy Returns</th>\n",
       "    </tr>\n",
       "    <tr>\n",
       "      <th>date</th>\n",
       "      <th></th>\n",
       "      <th></th>\n",
       "      <th></th>\n",
       "    </tr>\n",
       "  </thead>\n",
       "  <tbody>\n",
       "    <tr>\n",
       "      <th>2015-07-06 10:00:00</th>\n",
       "      <td>1.0</td>\n",
       "      <td>-0.025715</td>\n",
       "      <td>0.025715</td>\n",
       "    </tr>\n",
       "    <tr>\n",
       "      <th>2015-07-06 10:45:00</th>\n",
       "      <td>1.0</td>\n",
       "      <td>0.007237</td>\n",
       "      <td>-0.007237</td>\n",
       "    </tr>\n",
       "    <tr>\n",
       "      <th>2015-07-06 14:15:00</th>\n",
       "      <td>1.0</td>\n",
       "      <td>-0.009721</td>\n",
       "      <td>-0.009721</td>\n",
       "    </tr>\n",
       "    <tr>\n",
       "      <th>2015-07-06 14:30:00</th>\n",
       "      <td>1.0</td>\n",
       "      <td>-0.003841</td>\n",
       "      <td>0.003841</td>\n",
       "    </tr>\n",
       "    <tr>\n",
       "      <th>2015-07-07 11:30:00</th>\n",
       "      <td>1.0</td>\n",
       "      <td>-0.018423</td>\n",
       "      <td>0.018423</td>\n",
       "    </tr>\n",
       "  </tbody>\n",
       "</table>\n",
       "</div>"
      ],
      "text/plain": [
       "                     Predicted  Actual Returns  Strategy Returns\n",
       "date                                                            \n",
       "2015-07-06 10:00:00        1.0       -0.025715          0.025715\n",
       "2015-07-06 10:45:00        1.0        0.007237         -0.007237\n",
       "2015-07-06 14:15:00        1.0       -0.009721         -0.009721\n",
       "2015-07-06 14:30:00        1.0       -0.003841          0.003841\n",
       "2015-07-07 11:30:00        1.0       -0.018423          0.018423"
      ]
     },
     "metadata": {},
     "output_type": "display_data"
    },
    {
     "data": {
      "text/html": [
       "<div>\n",
       "<style scoped>\n",
       "    .dataframe tbody tr th:only-of-type {\n",
       "        vertical-align: middle;\n",
       "    }\n",
       "\n",
       "    .dataframe tbody tr th {\n",
       "        vertical-align: top;\n",
       "    }\n",
       "\n",
       "    .dataframe thead th {\n",
       "        text-align: right;\n",
       "    }\n",
       "</style>\n",
       "<table border=\"1\" class=\"dataframe\">\n",
       "  <thead>\n",
       "    <tr style=\"text-align: right;\">\n",
       "      <th></th>\n",
       "      <th>Predicted</th>\n",
       "      <th>Actual Returns</th>\n",
       "      <th>Strategy Returns</th>\n",
       "    </tr>\n",
       "    <tr>\n",
       "      <th>date</th>\n",
       "      <th></th>\n",
       "      <th></th>\n",
       "      <th></th>\n",
       "    </tr>\n",
       "  </thead>\n",
       "  <tbody>\n",
       "    <tr>\n",
       "      <th>2021-01-22 09:30:00</th>\n",
       "      <td>-1.0</td>\n",
       "      <td>-0.006866</td>\n",
       "      <td>-0.006866</td>\n",
       "    </tr>\n",
       "    <tr>\n",
       "      <th>2021-01-22 11:30:00</th>\n",
       "      <td>-1.0</td>\n",
       "      <td>0.002405</td>\n",
       "      <td>-0.002405</td>\n",
       "    </tr>\n",
       "    <tr>\n",
       "      <th>2021-01-22 13:45:00</th>\n",
       "      <td>-1.0</td>\n",
       "      <td>0.002099</td>\n",
       "      <td>0.002099</td>\n",
       "    </tr>\n",
       "    <tr>\n",
       "      <th>2021-01-22 14:30:00</th>\n",
       "      <td>-1.0</td>\n",
       "      <td>0.001496</td>\n",
       "      <td>0.001496</td>\n",
       "    </tr>\n",
       "    <tr>\n",
       "      <th>2021-01-22 15:45:00</th>\n",
       "      <td>-1.0</td>\n",
       "      <td>-0.000896</td>\n",
       "      <td>-0.000896</td>\n",
       "    </tr>\n",
       "  </tbody>\n",
       "</table>\n",
       "</div>"
      ],
      "text/plain": [
       "                     Predicted  Actual Returns  Strategy Returns\n",
       "date                                                            \n",
       "2021-01-22 09:30:00       -1.0       -0.006866         -0.006866\n",
       "2021-01-22 11:30:00       -1.0        0.002405         -0.002405\n",
       "2021-01-22 13:45:00       -1.0        0.002099          0.002099\n",
       "2021-01-22 14:30:00       -1.0        0.001496          0.001496\n",
       "2021-01-22 15:45:00       -1.0       -0.000896         -0.000896"
      ]
     },
     "metadata": {},
     "output_type": "display_data"
    }
   ],
   "source": [
    "# Create a new empty predictions DataFrame.\n",
    "\n",
    "# Create a predictions DataFrame\n",
    "predictions_2_df = pd.DataFrame(index = X_test.index)\n",
    "\n",
    "\n",
    "# Add the Linear Regression model predictions to the DataFrame\n",
    "predictions_2_df['Predicted'] = pred_2\n",
    "\n",
    "# Add the actual returns to the DataFrame\n",
    "predictions_2_df['Actual Returns'] = signals_df['Actual Returns']\n",
    "\n",
    "# Add the strategy returns to the DataFrame\n",
    "predictions_2_df['Strategy Returns'] = signals_df['Strategy Returns']\n",
    "\n",
    "# Review the DataFrame\n",
    "display(predictions_2_df['Predicted'].value_counts())\n",
    "display(predictions_2_df.head())\n",
    "display(predictions_2_df.tail())\n"
   ]
  },
  {
   "cell_type": "code",
   "execution_count": 27,
   "metadata": {},
   "outputs": [
    {
     "data": {
      "text/plain": [
       "<AxesSubplot:title={'center':'Logistic Regressioon Model Actual Returns vs Strategy Returns'}, xlabel='date'>"
      ]
     },
     "execution_count": 27,
     "metadata": {},
     "output_type": "execute_result"
    },
    {
     "data": {
      "image/png": "[encoded data removed]",
      "text/plain": [
       "<Figure size 432x288 with 1 Axes>"
      ]
     },
     "metadata": {
      "needs_background": "light"
     },
     "output_type": "display_data"
    }
   ],
   "source": [
    "# Plot the actual returns versus the strategy returns\n",
    "(1 + predictions_2_df[['Actual Returns', 'Strategy Returns']]).cumprod().plot(title = \"Logistic Regressioon Model Actual Returns vs Strategy Returns\")"
   ]
  },
  {
   "cell_type": "code",
   "execution_count": null,
   "metadata": {},
   "outputs": [],
   "source": []
  }
 ],
 "metadata": {
  "kernelspec": {
   "display_name": "Python (dev)",
   "language": "python",
   "name": "dev"
  },
  "language_info": {
   "codemirror_mode": {
    "name": "ipython",
    "version": 3
   },
   "file_extension": ".py",
   "mimetype": "text/x-python",
   "name": "python",
   "nbconvert_exporter": "python",
   "pygments_lexer": "ipython3",
   "version": "3.7.7"
  }
 },
 "nbformat": 4,
 "nbformat_minor": 4
}
